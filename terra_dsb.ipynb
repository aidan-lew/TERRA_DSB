{
 "cells": [
  {
   "cell_type": "markdown",
   "id": "5bd36a67-e218-47ad-83d0-46b897d720dc",
   "metadata": {},
   "source": [
    "# TERRA Colocolizes to Double Stranded Breaks (DSBs), esp. in G2\n",
    "    This project is the data analysis of Dr. Taghreed Mohammed Al Turki's PhD data, in continuation of Chris Nelson's(?) previous work. The objective is to eelucidate if TERRA locolizes to global DSBs, to telomeric DSB's, and which phase of the cell cycle does TERRA colocolize to telo DSBs. \n"
   ]
  },
  {
   "cell_type": "code",
   "execution_count": null,
   "id": "8986f099-9914-43c5-b643-79ecf3919a74",
   "metadata": {},
   "outputs": [],
   "source": [
    "# handling data\n",
    "import pandas as pd\n",
    "import numpy as np\n",
    "\n",
    "# visualizing data\n",
    "import seaborn as sns\n",
    "import matplotlib.pyplot as plt\n",
    "sns.set_style(\"darkgrid\")\n",
    "\n",
    "# Statistics\n",
    "from scipy import stats\n",
    "import statsmodels.api as sm\n",
    "import statsmodels.imputation.mice as smi\n",
    "import scipy.cluster.hierarchy as hac\n",
    "import matplotlib.gridspec as gridspec\n",
    "import math\n",
    "import random\n",
    "\n",
    "print(\"Setup Complete\")"
   ]
  },
  {
   "cell_type": "code",
   "execution_count": 2,
   "id": "2322828c-220b-4290-873a-0023aba20daf",
   "metadata": {},
   "outputs": [
    {
     "data": {
      "text/plain": [
       "'/Users/aidanlew'"
      ]
     },
     "execution_count": 2,
     "metadata": {},
     "output_type": "execute_result"
    }
   ],
   "source": [
    "pwd"
   ]
  },
  {
   "cell_type": "code",
   "execution_count": 3,
   "id": "641cf49a-5467-452f-b14c-08b57dc91a86",
   "metadata": {},
   "outputs": [
    {
     "name": "stdout",
     "output_type": "stream",
     "text": [
      "/Users/aidanlew/Desktop/senior_end/tagh_stuff\n"
     ]
    }
   ],
   "source": [
    "cd '/Users/aidanlew/Desktop/senior_end/tagh_stuff'"
   ]
  },
  {
   "cell_type": "code",
   "execution_count": 4,
   "id": "8eef4d2f-a634-4d18-93eb-5c97a6b9a152",
   "metadata": {},
   "outputs": [
    {
     "data": {
      "text/plain": [
       "'/Users/aidanlew/Desktop/senior_end/tagh_stuff'"
      ]
     },
     "execution_count": 4,
     "metadata": {},
     "output_type": "execute_result"
    }
   ],
   "source": [
    "pwd"
   ]
  },
  {
   "cell_type": "markdown",
   "id": "d66ee6a0-9a26-4201-b0bb-fcef0f709273",
   "metadata": {},
   "source": [
    "# Setting up the data\n",
    "    We want the data to be read by the program environment so that we can run quick and accurate analysis further on."
   ]
  },
  {
   "cell_type": "code",
   "execution_count": null,
   "id": "8ff0bea6-969d-437e-9c02-9b7936c02149",
   "metadata": {},
   "outputs": [],
   "source": []
  },
  {
   "cell_type": "code",
   "execution_count": null,
   "id": "c918e8d0-23ce-41fe-a133-902d1337f2d6",
   "metadata": {},
   "outputs": [],
   "source": []
  },
  {
   "cell_type": "markdown",
   "id": "1569d058-1e98-405b-9181-bb61c453b1ff",
   "metadata": {},
   "source": [
    "# TERRA locolizes to Global DSBs\n",
    "   - What the experiment is (e.g. what is it testing and how):\n",
    "   - \"To induce Global DSBs, U2OS cells were treated with 2 gy Gamma rays, recovered for 4 hours, fixed.\" \n",
    "   - \"To evaluate the induction of TERRA in response to the Global DSBs, the fixed cells were stained with C-rich labeld PNA probe. The experiment was repeated and cells were treated with a cocktail of  Rnase H and A for the removal of TERRA foci (negative control).\" \n"
   ]
  },
  {
   "cell_type": "code",
   "execution_count": null,
   "id": "521eb8b4-977a-4dd5-91da-1a779f9d4813",
   "metadata": {},
   "outputs": [],
   "source": []
  },
  {
   "cell_type": "code",
   "execution_count": null,
   "id": "b7a0e707-52cd-48fe-983f-3670852c4796",
   "metadata": {},
   "outputs": [],
   "source": []
  },
  {
   "cell_type": "markdown",
   "id": "0ce6ab5d-5950-4be7-8ea4-22bb31d38359",
   "metadata": {},
   "source": [
    "# TERRA Locolizes to Telomeric DSBs\n",
    "  - What the experiment is (e.g. what is it testing and how):\n",
    "  - \"To measure the colocalization of FLAG and TERRA  RNA FISH and Immunostaining to label FLAG in positively transfected cells and compare it to untransfected population.\"\n",
    "  - to test wheather  this system allowed the formation of telomeric DSBs, cells were  fixed and immunostained to detect\n",
    "    - a.FLAG  ( to label the positvely transfected cells).\n",
    "    - b. yH2AX ( DSBs marker)\n",
    "    - c. Edu ( S phase marker) FUCCI marker (G2 marker). \n",
    "    - The fixed cells were also stained with G-rich labeld PNA probe  to detect Telomeres (C-rich strands).\n"
   ]
  },
  {
   "cell_type": "code",
   "execution_count": null,
   "id": "b61297af-324b-419d-a4f3-834d428211c4",
   "metadata": {},
   "outputs": [],
   "source": []
  },
  {
   "cell_type": "code",
   "execution_count": null,
   "id": "9454fc9d-4e76-4c27-bf51-69301a7faa8b",
   "metadata": {},
   "outputs": [],
   "source": []
  },
  {
   "cell_type": "markdown",
   "id": "acf6233e-d0db-4021-af13-015ce5bc2db2",
   "metadata": {},
   "source": [
    "# TERRA locolization to Telomeric DSBs accumulated in the G2 phase of the cell cycle\n",
    "  - Same experiment but assesed based on cells transfected with:\n",
    "      - \"G1 (stained  ONLY  with DAPI), in S phase (stained with DAPI+EdU) and G2 ( cells stained with green FUCCI and DAPI) and then compared this to the number of TERRA foci in untransfected control.\"\n",
    "      - \"To measure the colocalization of FLAG and TERRA  RNA FISH and Immunostaining to label FLAG in positively transfected cells and compare it to untransfected population.\"\n",
    "      - to test wheather  this system allowed the formation of telomeric DSBs, cells were  fixed and immunostained to detect\n",
    "        - a.FLAG  ( to label the positvely transfected cells).\n",
    "        - b. yH2AX ( DSBs marker)\n",
    "        - c. Edu ( S phase marker) FUCCI marker (G2 marker). \n",
    "        - The fixed cells were also stained with G-rich labeld PNA probe  to detect Telomeres (C-rich strands)."
   ]
  },
  {
   "cell_type": "code",
   "execution_count": null,
   "id": "2b8ffbfb-4520-4633-9f99-9453aa3f69d1",
   "metadata": {},
   "outputs": [],
   "source": []
  },
  {
   "cell_type": "code",
   "execution_count": null,
   "id": "79dda1ff-9e58-4f85-9870-e88129282ce6",
   "metadata": {},
   "outputs": [],
   "source": []
  },
  {
   "cell_type": "markdown",
   "id": "35175bee-9387-457d-b77c-2d37e01863f3",
   "metadata": {},
   "source": [
    "# Conclusions "
   ]
  },
  {
   "cell_type": "code",
   "execution_count": null,
   "id": "99c359e4-a4c8-4d03-8354-3472c5377411",
   "metadata": {},
   "outputs": [],
   "source": []
  }
 ],
 "metadata": {
  "kernelspec": {
   "display_name": "Python 3",
   "language": "python",
   "name": "python3"
  },
  "language_info": {
   "codemirror_mode": {
    "name": "ipython",
    "version": 3
   },
   "file_extension": ".py",
   "mimetype": "text/x-python",
   "name": "python",
   "nbconvert_exporter": "python",
   "pygments_lexer": "ipython3",
   "version": "3.8.5"
  },
  "toc-autonumbering": false
 },
 "nbformat": 4,
 "nbformat_minor": 5
}
