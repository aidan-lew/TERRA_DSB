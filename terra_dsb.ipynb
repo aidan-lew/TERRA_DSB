{
 "cells": [
  {
   "cell_type": "markdown",
   "id": "5bd36a67-e218-47ad-83d0-46b897d720dc",
   "metadata": {},
   "source": [
    "# TERRA Colocolizes to Double Stranded Breaks (DSBs), esp. in G2\n",
    "    This project is the data analysis of Dr. Taghreed Mohammed Al Turki's PhD data, in continuation of Chris Nelson's(?) previous work. The objective is to eelucidate if TERRA locolizes to global DSBs, to telomeric DSB's, and which phase of the cell cycle does TERRA colocolize to telo DSBs. \n"
   ]
  },
  {
   "cell_type": "code",
   "execution_count": 2,
   "id": "8986f099-9914-43c5-b643-79ecf3919a74",
   "metadata": {},
   "outputs": [
    {
     "name": "stdout",
     "output_type": "stream",
     "text": [
      "Setup Complete\n"
     ]
    }
   ],
   "source": [
    "# handling data\n",
    "import pandas as pd\n",
    "import numpy as np\n",
    "\n",
    "# visualizing data\n",
    "import seaborn as sns\n",
    "import matplotlib.pyplot as plt\n",
    "sns.set_style(\"darkgrid\")\n",
    "\n",
    "# Statistics\n",
    "from scipy import stats\n",
    "import statsmodels.api as sm\n",
    "import statsmodels.imputation.mice as smi\n",
    "import scipy.cluster.hierarchy as hac\n",
    "import matplotlib.gridspec as gridspec\n",
    "import math\n",
    "import random\n",
    "\n",
    "#SHAP Value Stuff\n",
    "import shap\n",
    "from shap import TreeExplainer\n",
    "from shap import GradientExplainer\n",
    "from shap import DeepExplainer\n",
    "from shap import KernelExplainer\n",
    "from shap import SamplingExplainer\n",
    "from shap import PartitionExplainer\n",
    "\n",
    "print(\"Setup Complete\")"
   ]
  },
  {
   "cell_type": "code",
   "execution_count": 7,
   "id": "2322828c-220b-4290-873a-0023aba20daf",
   "metadata": {},
   "outputs": [
    {
     "data": {
      "text/plain": [
       "'/Users/aidanlew/Documents'"
      ]
     },
     "execution_count": 7,
     "metadata": {},
     "output_type": "execute_result"
    }
   ],
   "source": [
    "pwd"
   ]
  },
  {
   "cell_type": "code",
   "execution_count": 3,
   "id": "641cf49a-5467-452f-b14c-08b57dc91a86",
   "metadata": {},
   "outputs": [
    {
     "name": "stdout",
     "output_type": "stream",
     "text": [
      "/Users/aidanlew/Documents\n"
     ]
    }
   ],
   "source": [
    "cd '/Users/aidanlew/Documents'"
   ]
  },
  {
   "cell_type": "code",
   "execution_count": 9,
   "id": "8eef4d2f-a634-4d18-93eb-5c97a6b9a152",
   "metadata": {},
   "outputs": [
    {
     "data": {
      "text/plain": [
       "'/Users/aidanlew/Documents'"
      ]
     },
     "execution_count": 9,
     "metadata": {},
     "output_type": "execute_result"
    }
   ],
   "source": [
    "pwd"
   ]
  },
  {
   "cell_type": "markdown",
   "id": "d66ee6a0-9a26-4201-b0bb-fcef0f709273",
   "metadata": {},
   "source": [
    "# Setting up the data\n",
    "    We want the data to be read by the program environment so that we can run quick and accurate analysis further on."
   ]
  },
  {
   "cell_type": "code",
   "execution_count": 4,
   "id": "8ff0bea6-969d-437e-9c02-9b7936c02149",
   "metadata": {},
   "outputs": [
    {
     "data": {
      "text/html": [
       "<div>\n",
       "<style scoped>\n",
       "    .dataframe tbody tr th:only-of-type {\n",
       "        vertical-align: middle;\n",
       "    }\n",
       "\n",
       "    .dataframe tbody tr th {\n",
       "        vertical-align: top;\n",
       "    }\n",
       "\n",
       "    .dataframe thead th {\n",
       "        text-align: right;\n",
       "    }\n",
       "</style>\n",
       "<table border=\"1\" class=\"dataframe\">\n",
       "  <thead>\n",
       "    <tr style=\"text-align: right;\">\n",
       "      <th></th>\n",
       "      <th>foci#_TERRA_with_2Gy</th>\n",
       "      <th>TERRA_foci#/cell_with_0Gy_(control)</th>\n",
       "      <th>foci#_TERRA_2Gy_+RnaseA+H</th>\n",
       "      <th>foci#_TERRA_0Gy_+RnaseA+H</th>\n",
       "    </tr>\n",
       "  </thead>\n",
       "  <tbody>\n",
       "    <tr>\n",
       "      <th>0</th>\n",
       "      <td>14</td>\n",
       "      <td>2</td>\n",
       "      <td>1.0</td>\n",
       "      <td>8</td>\n",
       "    </tr>\n",
       "    <tr>\n",
       "      <th>1</th>\n",
       "      <td>24</td>\n",
       "      <td>2</td>\n",
       "      <td>0.0</td>\n",
       "      <td>5</td>\n",
       "    </tr>\n",
       "    <tr>\n",
       "      <th>2</th>\n",
       "      <td>19</td>\n",
       "      <td>1</td>\n",
       "      <td>3.0</td>\n",
       "      <td>5</td>\n",
       "    </tr>\n",
       "    <tr>\n",
       "      <th>3</th>\n",
       "      <td>43</td>\n",
       "      <td>0</td>\n",
       "      <td>1.0</td>\n",
       "      <td>8</td>\n",
       "    </tr>\n",
       "    <tr>\n",
       "      <th>4</th>\n",
       "      <td>17</td>\n",
       "      <td>11</td>\n",
       "      <td>1.0</td>\n",
       "      <td>6</td>\n",
       "    </tr>\n",
       "  </tbody>\n",
       "</table>\n",
       "</div>"
      ],
      "text/plain": [
       "   foci#_TERRA_with_2Gy   TERRA_foci#/cell_with_0Gy_(control)  \\\n",
       "0                     14                                    2   \n",
       "1                     24                                    2   \n",
       "2                     19                                    1   \n",
       "3                     43                                    0   \n",
       "4                     17                                   11   \n",
       "\n",
       "   foci#_TERRA_2Gy_+RnaseA+H  foci#_TERRA_0Gy_+RnaseA+H  \n",
       "0                        1.0                          8  \n",
       "1                        0.0                          5  \n",
       "2                        3.0                          5  \n",
       "3                        1.0                          8  \n",
       "4                        1.0                          6  "
      ]
     },
     "execution_count": 4,
     "metadata": {},
     "output_type": "execute_result"
    }
   ],
   "source": [
    "### REMEBER TO SAVE AS CSV FOR GITHUB ###\n",
    "\n",
    "#Data for Global DSB analyis\n",
    "global_df = pd.read_excel('../Documents/global_DSB_TERRA.xlsx',\n",
    "                    sheet_name=0,\n",
    "                    skiprows = 0,\n",
    "                    usecols = ['foci#_TERRA_with_2Gy ', 'TERRA_foci#/cell_with_0Gy_(control)',\n",
    "       'foci#_TERRA_2Gy_+RnaseA+H', 'foci#_TERRA_0Gy_+RnaseA+H'] #Mind the space in first column name\n",
    "                         )\n",
    "\n",
    "global_df.set_index(['foci#_TERRA_with_2Gy '])#good way to fix \"not in axis issue\"\n",
    "global_df.dropna(axis=0, inplace=True) #sweet, iloc and drop didn't work, but this did\n",
    "\n",
    "\n",
    "#global_df.columns() #Fr some reason not setting the index to the columnn name\n",
    "global_df.head()\n",
    "\n"
   ]
  },
  {
   "cell_type": "code",
   "execution_count": 5,
   "id": "c918e8d0-23ce-41fe-a133-902d1337f2d6",
   "metadata": {},
   "outputs": [
    {
     "data": {
      "text/html": [
       "<div>\n",
       "<style scoped>\n",
       "    .dataframe tbody tr th:only-of-type {\n",
       "        vertical-align: middle;\n",
       "    }\n",
       "\n",
       "    .dataframe tbody tr th {\n",
       "        vertical-align: top;\n",
       "    }\n",
       "\n",
       "    .dataframe thead th {\n",
       "        text-align: right;\n",
       "    }\n",
       "</style>\n",
       "<table border=\"1\" class=\"dataframe\">\n",
       "  <thead>\n",
       "    <tr style=\"text-align: right;\">\n",
       "      <th></th>\n",
       "      <th>foci#_TERRA_with_2Gy</th>\n",
       "      <th>TERRA_foci#/cell_with_0Gy_(control)</th>\n",
       "      <th>foci#_TERRA_2Gy_+RnaseA+H</th>\n",
       "      <th>foci#_TERRA_0Gy_+RnaseA+H</th>\n",
       "    </tr>\n",
       "  </thead>\n",
       "  <tbody>\n",
       "    <tr>\n",
       "      <th>0</th>\n",
       "      <td>14</td>\n",
       "      <td>2</td>\n",
       "      <td>1.0</td>\n",
       "      <td>8</td>\n",
       "    </tr>\n",
       "    <tr>\n",
       "      <th>1</th>\n",
       "      <td>24</td>\n",
       "      <td>2</td>\n",
       "      <td>0.0</td>\n",
       "      <td>5</td>\n",
       "    </tr>\n",
       "    <tr>\n",
       "      <th>2</th>\n",
       "      <td>19</td>\n",
       "      <td>1</td>\n",
       "      <td>3.0</td>\n",
       "      <td>5</td>\n",
       "    </tr>\n",
       "    <tr>\n",
       "      <th>3</th>\n",
       "      <td>43</td>\n",
       "      <td>0</td>\n",
       "      <td>1.0</td>\n",
       "      <td>8</td>\n",
       "    </tr>\n",
       "    <tr>\n",
       "      <th>4</th>\n",
       "      <td>17</td>\n",
       "      <td>11</td>\n",
       "      <td>1.0</td>\n",
       "      <td>6</td>\n",
       "    </tr>\n",
       "  </tbody>\n",
       "</table>\n",
       "</div>"
      ],
      "text/plain": [
       "   foci#_TERRA_with_2Gy   TERRA_foci#/cell_with_0Gy_(control)  \\\n",
       "0                     14                                    2   \n",
       "1                     24                                    2   \n",
       "2                     19                                    1   \n",
       "3                     43                                    0   \n",
       "4                     17                                   11   \n",
       "\n",
       "   foci#_TERRA_2Gy_+RnaseA+H  foci#_TERRA_0Gy_+RnaseA+H  \n",
       "0                        1.0                          8  \n",
       "1                        0.0                          5  \n",
       "2                        3.0                          5  \n",
       "3                        1.0                          8  \n",
       "4                        1.0                          6  "
      ]
     },
     "execution_count": 5,
     "metadata": {},
     "output_type": "execute_result"
    }
   ],
   "source": [
    "#Data for telo DSB analyis\n",
    "telo_df = pd.read_excel('../Documents/global_DSB_TERRA.xlsx',\n",
    "                    sheet_name=0,\n",
    "                    skiprows = 0,\n",
    "                    usecols = ['foci#_TERRA_with_2Gy ', 'TERRA_foci#/cell_with_0Gy_(control)',\n",
    "       'foci#_TERRA_2Gy_+RnaseA+H', 'foci#_TERRA_0Gy_+RnaseA+H'] \n",
    "                         )\n",
    "\n",
    "telo_df.set_index(['foci#_TERRA_with_2Gy '])#good way to fix \"not in axis issue\"\n",
    "telo_df.dropna(axis=0, inplace=True) #sweet, iloc and drop didn't work, but this did\n",
    "\n",
    "\n",
    "#telo_df.columns()\n",
    "telo_df.head()"
   ]
  },
  {
   "cell_type": "code",
   "execution_count": 6,
   "id": "551323e3-0d76-422b-ae82-7caf921e938f",
   "metadata": {},
   "outputs": [
    {
     "data": {
      "text/html": [
       "<div>\n",
       "<style scoped>\n",
       "    .dataframe tbody tr th:only-of-type {\n",
       "        vertical-align: middle;\n",
       "    }\n",
       "\n",
       "    .dataframe tbody tr th {\n",
       "        vertical-align: top;\n",
       "    }\n",
       "\n",
       "    .dataframe thead th {\n",
       "        text-align: right;\n",
       "    }\n",
       "</style>\n",
       "<table border=\"1\" class=\"dataframe\">\n",
       "  <thead>\n",
       "    <tr style=\"text-align: right;\">\n",
       "      <th></th>\n",
       "      <th>Cells</th>\n",
       "      <th>no_RNAse_G1</th>\n",
       "      <th>no_RNAse_S</th>\n",
       "      <th>no_RNAse_G2</th>\n",
       "      <th>no_RNAse_total</th>\n",
       "      <th>RNAse_G1</th>\n",
       "      <th>RNAse_S</th>\n",
       "      <th>RNAse_G2</th>\n",
       "      <th>RNAse_total</th>\n",
       "    </tr>\n",
       "  </thead>\n",
       "  <tbody>\n",
       "    <tr>\n",
       "      <th>0</th>\n",
       "      <td>EN-T</td>\n",
       "      <td>294.8</td>\n",
       "      <td>325.1</td>\n",
       "      <td>1008.4</td>\n",
       "      <td>1628.3</td>\n",
       "      <td>82.0</td>\n",
       "      <td>48.0</td>\n",
       "      <td>201.5</td>\n",
       "      <td>331.5</td>\n",
       "    </tr>\n",
       "    <tr>\n",
       "      <th>1</th>\n",
       "      <td>TRF1</td>\n",
       "      <td>389.6</td>\n",
       "      <td>288.8</td>\n",
       "      <td>1591.9</td>\n",
       "      <td>2270.3</td>\n",
       "      <td>90.6</td>\n",
       "      <td>31.6</td>\n",
       "      <td>254.1</td>\n",
       "      <td>376.3</td>\n",
       "    </tr>\n",
       "    <tr>\n",
       "      <th>2</th>\n",
       "      <td>Empty</td>\n",
       "      <td>398.7</td>\n",
       "      <td>184.0</td>\n",
       "      <td>1168.6</td>\n",
       "      <td>1751.3</td>\n",
       "      <td>155.2</td>\n",
       "      <td>40.1</td>\n",
       "      <td>142.5</td>\n",
       "      <td>337.8</td>\n",
       "    </tr>\n",
       "    <tr>\n",
       "      <th>3</th>\n",
       "      <td>Untransfected</td>\n",
       "      <td>809.6</td>\n",
       "      <td>300.7</td>\n",
       "      <td>929.0</td>\n",
       "      <td>2039.3</td>\n",
       "      <td>119.3</td>\n",
       "      <td>35.2</td>\n",
       "      <td>65.1</td>\n",
       "      <td>219.6</td>\n",
       "    </tr>\n",
       "  </tbody>\n",
       "</table>\n",
       "</div>"
      ],
      "text/plain": [
       "           Cells  no_RNAse_G1  no_RNAse_S  no_RNAse_G2  no_RNAse_total  \\\n",
       "0           EN-T        294.8       325.1       1008.4          1628.3   \n",
       "1           TRF1        389.6       288.8       1591.9          2270.3   \n",
       "2          Empty        398.7       184.0       1168.6          1751.3   \n",
       "3  Untransfected        809.6       300.7        929.0          2039.3   \n",
       "\n",
       "   RNAse_G1  RNAse_S  RNAse_G2  RNAse_total  \n",
       "0      82.0     48.0     201.5        331.5  \n",
       "1      90.6     31.6     254.1        376.3  \n",
       "2     155.2     40.1     142.5        337.8  \n",
       "3     119.3     35.2      65.1        219.6  "
      ]
     },
     "execution_count": 6,
     "metadata": {},
     "output_type": "execute_result"
    }
   ],
   "source": [
    "#Data for G2 DSB analyis\n",
    "\n",
    "#for total TERRA loci number\n",
    "g2_terra_num_df = pd.read_excel('../Documents/telomere_G2_DSB_TERRA.xlsx',\n",
    "                    sheet_name=0,\n",
    "                    skiprows = 0,\n",
    "                    usecols = ['Cells', 'no_RNAse_G1',\n",
    "       'no_RNAse_S', 'no_RNAse_G2','no_RNAse_total','RNAse_G1','RNAse_S','RNAse_G2','RNAse_total'] \n",
    "                         )\n",
    "\n",
    "g2_terra_num_df.set_index(['Cells'])#good way to fix \"not in axis issue\"\n",
    "g2_terra_num_df.dropna(axis=0, inplace=True) #sweet, iloc and drop didn't work, but this did\n",
    "\n",
    "\n",
    "#g2_terra_num_df.columns()\n",
    "g2_terra_num_df.head()"
   ]
  },
  {
   "cell_type": "code",
   "execution_count": 7,
   "id": "f8bd70ba-c9bb-445e-b2ba-111d68226c12",
   "metadata": {},
   "outputs": [
    {
     "data": {
      "text/html": [
       "<div>\n",
       "<style scoped>\n",
       "    .dataframe tbody tr th:only-of-type {\n",
       "        vertical-align: middle;\n",
       "    }\n",
       "\n",
       "    .dataframe tbody tr th {\n",
       "        vertical-align: top;\n",
       "    }\n",
       "\n",
       "    .dataframe thead th {\n",
       "        text-align: right;\n",
       "    }\n",
       "</style>\n",
       "<table border=\"1\" class=\"dataframe\">\n",
       "  <thead>\n",
       "    <tr style=\"text-align: right;\">\n",
       "      <th></th>\n",
       "      <th>Cells</th>\n",
       "      <th>no_RNAse_G1</th>\n",
       "      <th>no_RNAse_S</th>\n",
       "      <th>no_RNAse_G2</th>\n",
       "      <th>no_RNAse_total</th>\n",
       "      <th>RNAse_G1</th>\n",
       "      <th>RNAse_S</th>\n",
       "      <th>RNAse_G2</th>\n",
       "      <th>RNAse_total</th>\n",
       "    </tr>\n",
       "  </thead>\n",
       "  <tbody>\n",
       "    <tr>\n",
       "      <th>0</th>\n",
       "      <td>EN-T</td>\n",
       "      <td>16.1</td>\n",
       "      <td>12.8</td>\n",
       "      <td>55.0</td>\n",
       "      <td>83.9</td>\n",
       "      <td>19.6</td>\n",
       "      <td>13.6</td>\n",
       "      <td>53.9</td>\n",
       "      <td>87.1</td>\n",
       "    </tr>\n",
       "    <tr>\n",
       "      <th>1</th>\n",
       "      <td>TRF1</td>\n",
       "      <td>14.3</td>\n",
       "      <td>8.1</td>\n",
       "      <td>63.5</td>\n",
       "      <td>85.9</td>\n",
       "      <td>22.7</td>\n",
       "      <td>13.3</td>\n",
       "      <td>48.1</td>\n",
       "      <td>84.1</td>\n",
       "    </tr>\n",
       "    <tr>\n",
       "      <th>2</th>\n",
       "      <td>Empty</td>\n",
       "      <td>22.6</td>\n",
       "      <td>6.8</td>\n",
       "      <td>57.3</td>\n",
       "      <td>86.7</td>\n",
       "      <td>24.7</td>\n",
       "      <td>13.5</td>\n",
       "      <td>30.8</td>\n",
       "      <td>69.0</td>\n",
       "    </tr>\n",
       "    <tr>\n",
       "      <th>3</th>\n",
       "      <td>Untransfected</td>\n",
       "      <td>40.4</td>\n",
       "      <td>13.2</td>\n",
       "      <td>50.9</td>\n",
       "      <td>104.5</td>\n",
       "      <td>59.2</td>\n",
       "      <td>21.7</td>\n",
       "      <td>29.7</td>\n",
       "      <td>110.6</td>\n",
       "    </tr>\n",
       "  </tbody>\n",
       "</table>\n",
       "</div>"
      ],
      "text/plain": [
       "           Cells  no_RNAse_G1  no_RNAse_S  no_RNAse_G2  no_RNAse_total  \\\n",
       "0           EN-T         16.1        12.8         55.0            83.9   \n",
       "1           TRF1         14.3         8.1         63.5            85.9   \n",
       "2          Empty         22.6         6.8         57.3            86.7   \n",
       "3  Untransfected         40.4        13.2         50.9           104.5   \n",
       "\n",
       "   RNAse_G1  RNAse_S  RNAse_G2  RNAse_total  \n",
       "0      19.6     13.6      53.9         87.1  \n",
       "1      22.7     13.3      48.1         84.1  \n",
       "2      24.7     13.5      30.8         69.0  \n",
       "3      59.2     21.7      29.7        110.6  "
      ]
     },
     "execution_count": 7,
     "metadata": {},
     "output_type": "execute_result"
    }
   ],
   "source": [
    "# For total cell loci number\n",
    "g2_cell_num_df = pd.read_excel('../Documents/telomere_G2_DSB_TERRA.xlsx',\n",
    "                    sheet_name=2,\n",
    "                    skiprows = 0,\n",
    "                    usecols = ['Cells', 'no_RNAse_G1',\n",
    "       'no_RNAse_S', 'no_RNAse_G2','no_RNAse_total','RNAse_G1','RNAse_S','RNAse_G2','RNAse_total'] \n",
    "                         )\n",
    "\n",
    "g2_cell_num_df.set_index(['Cells'])#good way to fix \"not in axis issue\"\n",
    "g2_cell_num_df.dropna(axis=0, inplace=True) #sweet, iloc and drop didn't work, but this did\n",
    "\n",
    "\n",
    "#g2_cell_num_df.columns()\n",
    "g2_cell_num_df.head()"
   ]
  },
  {
   "cell_type": "code",
   "execution_count": 8,
   "id": "271530e1-49a5-4137-8606-3909108a4cd5",
   "metadata": {},
   "outputs": [
    {
     "data": {
      "text/html": [
       "<div>\n",
       "<style scoped>\n",
       "    .dataframe tbody tr th:only-of-type {\n",
       "        vertical-align: middle;\n",
       "    }\n",
       "\n",
       "    .dataframe tbody tr th {\n",
       "        vertical-align: top;\n",
       "    }\n",
       "\n",
       "    .dataframe thead th {\n",
       "        text-align: right;\n",
       "    }\n",
       "</style>\n",
       "<table border=\"1\" class=\"dataframe\">\n",
       "  <thead>\n",
       "    <tr style=\"text-align: right;\">\n",
       "      <th></th>\n",
       "      <th>Cells</th>\n",
       "      <th>no_RNAse_G1</th>\n",
       "      <th>no_RNAse_S</th>\n",
       "      <th>no_RNAse_G2</th>\n",
       "      <th>RNAse_G1</th>\n",
       "      <th>RNAse_S</th>\n",
       "      <th>RNAse_G2</th>\n",
       "    </tr>\n",
       "  </thead>\n",
       "  <tbody>\n",
       "    <tr>\n",
       "      <th>0</th>\n",
       "      <td>EN-T</td>\n",
       "      <td>19.189511</td>\n",
       "      <td>15.256257</td>\n",
       "      <td>65.554231</td>\n",
       "      <td>22.502870</td>\n",
       "      <td>15.614237</td>\n",
       "      <td>61.882893</td>\n",
       "    </tr>\n",
       "    <tr>\n",
       "      <th>1</th>\n",
       "      <td>TRF1</td>\n",
       "      <td>16.647264</td>\n",
       "      <td>9.429569</td>\n",
       "      <td>73.923166</td>\n",
       "      <td>26.991677</td>\n",
       "      <td>15.814507</td>\n",
       "      <td>57.193817</td>\n",
       "    </tr>\n",
       "    <tr>\n",
       "      <th>2</th>\n",
       "      <td>Empty</td>\n",
       "      <td>26.066897</td>\n",
       "      <td>7.843137</td>\n",
       "      <td>66.089965</td>\n",
       "      <td>35.797101</td>\n",
       "      <td>19.565217</td>\n",
       "      <td>44.637681</td>\n",
       "    </tr>\n",
       "    <tr>\n",
       "      <th>3</th>\n",
       "      <td>Untransfected</td>\n",
       "      <td>38.660287</td>\n",
       "      <td>12.631579</td>\n",
       "      <td>48.708134</td>\n",
       "      <td>53.526221</td>\n",
       "      <td>19.620253</td>\n",
       "      <td>26.853526</td>\n",
       "    </tr>\n",
       "  </tbody>\n",
       "</table>\n",
       "</div>"
      ],
      "text/plain": [
       "           Cells  no_RNAse_G1  no_RNAse_S  no_RNAse_G2   RNAse_G1    RNAse_S  \\\n",
       "0           EN-T    19.189511   15.256257    65.554231  22.502870  15.614237   \n",
       "1           TRF1    16.647264    9.429569    73.923166  26.991677  15.814507   \n",
       "2          Empty    26.066897    7.843137    66.089965  35.797101  19.565217   \n",
       "3  Untransfected    38.660287   12.631579    48.708134  53.526221  19.620253   \n",
       "\n",
       "    RNAse_G2  \n",
       "0  61.882893  \n",
       "1  57.193817  \n",
       "2  44.637681  \n",
       "3  26.853526  "
      ]
     },
     "execution_count": 8,
     "metadata": {},
     "output_type": "execute_result"
    }
   ],
   "source": [
    "# For percent of total cells in the cell cyle phase\n",
    "g2_cell_perc_df = pd.read_excel('../Documents/telomere_G2_DSB_TERRA.xlsx',\n",
    "                    sheet_name=3,\n",
    "                    skiprows = 0,\n",
    "                    usecols = ['Cells', 'no_RNAse_G1',\n",
    "       'no_RNAse_S', 'no_RNAse_G2','RNAse_G1','RNAse_S','RNAse_G2'] \n",
    "                         )\n",
    "\n",
    "g2_cell_perc_df.set_index(['Cells'])#good way to fix \"not in axis issue\"\n",
    "g2_cell_perc_df.dropna(axis=0, inplace=True) #sweet, iloc and drop didn't work, but this did\n",
    "\n",
    "\n",
    "#g2_cell_perc_df.columns()\n",
    "g2_cell_perc_df.head()"
   ]
  },
  {
   "cell_type": "code",
   "execution_count": 9,
   "id": "ee2567c2-251d-4346-bcfa-bd2ffb86a5ed",
   "metadata": {},
   "outputs": [
    {
     "data": {
      "text/html": [
       "<div>\n",
       "<style scoped>\n",
       "    .dataframe tbody tr th:only-of-type {\n",
       "        vertical-align: middle;\n",
       "    }\n",
       "\n",
       "    .dataframe tbody tr th {\n",
       "        vertical-align: top;\n",
       "    }\n",
       "\n",
       "    .dataframe thead th {\n",
       "        text-align: right;\n",
       "    }\n",
       "</style>\n",
       "<table border=\"1\" class=\"dataframe\">\n",
       "  <thead>\n",
       "    <tr style=\"text-align: right;\">\n",
       "      <th></th>\n",
       "      <th>Cells</th>\n",
       "      <th>no_RNAse_G1</th>\n",
       "      <th>no_RNAse_S</th>\n",
       "      <th>no_RNAse_G2</th>\n",
       "      <th>RNAse_G1</th>\n",
       "      <th>RNAse_S</th>\n",
       "      <th>RNAse_G2</th>\n",
       "    </tr>\n",
       "  </thead>\n",
       "  <tbody>\n",
       "    <tr>\n",
       "      <th>0</th>\n",
       "      <td>EN-T</td>\n",
       "      <td>18.104772</td>\n",
       "      <td>19.965608</td>\n",
       "      <td>61.929620</td>\n",
       "      <td>24.736048</td>\n",
       "      <td>14.479638</td>\n",
       "      <td>60.784314</td>\n",
       "    </tr>\n",
       "    <tr>\n",
       "      <th>1</th>\n",
       "      <td>TRF1</td>\n",
       "      <td>17.160728</td>\n",
       "      <td>12.720786</td>\n",
       "      <td>70.118487</td>\n",
       "      <td>24.076535</td>\n",
       "      <td>8.397555</td>\n",
       "      <td>67.525910</td>\n",
       "    </tr>\n",
       "    <tr>\n",
       "      <th>2</th>\n",
       "      <td>Empty</td>\n",
       "      <td>22.765945</td>\n",
       "      <td>10.506481</td>\n",
       "      <td>66.727574</td>\n",
       "      <td>45.944346</td>\n",
       "      <td>11.870930</td>\n",
       "      <td>42.184725</td>\n",
       "    </tr>\n",
       "    <tr>\n",
       "      <th>3</th>\n",
       "      <td>Untransfected</td>\n",
       "      <td>39.699897</td>\n",
       "      <td>14.745256</td>\n",
       "      <td>45.554847</td>\n",
       "      <td>54.326047</td>\n",
       "      <td>16.029144</td>\n",
       "      <td>29.644809</td>\n",
       "    </tr>\n",
       "  </tbody>\n",
       "</table>\n",
       "</div>"
      ],
      "text/plain": [
       "           Cells  no_RNAse_G1  no_RNAse_S  no_RNAse_G2   RNAse_G1    RNAse_S  \\\n",
       "0           EN-T    18.104772   19.965608    61.929620  24.736048  14.479638   \n",
       "1           TRF1    17.160728   12.720786    70.118487  24.076535   8.397555   \n",
       "2          Empty    22.765945   10.506481    66.727574  45.944346  11.870930   \n",
       "3  Untransfected    39.699897   14.745256    45.554847  54.326047  16.029144   \n",
       "\n",
       "    RNAse_G2  \n",
       "0  60.784314  \n",
       "1  67.525910  \n",
       "2  42.184725  \n",
       "3  29.644809  "
      ]
     },
     "execution_count": 9,
     "metadata": {},
     "output_type": "execute_result"
    }
   ],
   "source": [
    "#For the percent of TERRA loci in each phase of the cell cycle\n",
    "# For percent of total cells in the cell cyle phase\n",
    "g2_terra_perc_df = pd.read_excel('../Documents/telomere_G2_DSB_TERRA.xlsx',\n",
    "                    sheet_name=1,\n",
    "                    skiprows = 0,\n",
    "                    usecols = ['Cells', 'no_RNAse_G1',\n",
    "       'no_RNAse_S', 'no_RNAse_G2','RNAse_G1','RNAse_S','RNAse_G2'] \n",
    "                         )\n",
    "\n",
    "g2_terra_perc_df.set_index(['Cells'])#good way to fix \"not in axis issue\"\n",
    "g2_terra_perc_df.dropna(axis=0, inplace=True) #sweet, iloc and drop didn't work, but this did\n",
    "\n",
    "\n",
    "#g2_terra_perc_df.columns()\n",
    "g2_terra_perc_df.head()"
   ]
  },
  {
   "cell_type": "markdown",
   "id": "1569d058-1e98-405b-9181-bb61c453b1ff",
   "metadata": {},
   "source": [
    "# TERRA locolizes to Global DSBs\n",
    "   - What the experiment is (e.g. what is it testing and how):\n",
    "   - \"To induce Global DSBs, U2OS cells were treated with 2 gy Gamma rays, recovered for 4 hours, fixed.\" \n",
    "   - \"To evaluate the induction of TERRA in response to the Global DSBs, the fixed cells were stained with C-rich labeld PNA probe. The experiment was repeated and cells were treated with a cocktail of  Rnase H and A for the removal of TERRA foci (negative control).\" \n"
   ]
  },
  {
   "cell_type": "code",
   "execution_count": 68,
   "id": "521eb8b4-977a-4dd5-91da-1a779f9d4813",
   "metadata": {},
   "outputs": [
    {
     "name": "stdout",
     "output_type": "stream",
     "text": [
      "Max 2Gy               43.0\n",
      "0Gy               34.0\n",
      "2Gy & RnaseA+H    10.0\n",
      "0Gy & RnaseA+H    12.0\n",
      "dtype: float64 Min 2Gy               0.0\n",
      "0Gy               0.0\n",
      "2Gy & RnaseA+H    0.0\n",
      "0Gy & RnaseA+H    0.0\n",
      "dtype: float64\n"
     ]
    }
   ],
   "source": [
    "#renaming the \n",
    "global_df.columns = ['2Gy', '0Gy', '2Gy & RnaseA+H', '0Gy & RnaseA+H']\n",
    "global_df.head()\n",
    "#global_df.columns\n",
    "\n",
    "#Finding the axes\n",
    "print(\"Max\", global_df.max(),\"Min\", global_df.min())\n"
   ]
  },
  {
   "cell_type": "markdown",
   "id": "8076f485-2427-4a84-a4f9-cfe329da3b85",
   "metadata": {},
   "source": [
    "## Violin Plot"
   ]
  },
  {
   "cell_type": "code",
   "execution_count": 71,
   "id": "a9929fd3-3572-42bc-85d8-323f404bb456",
   "metadata": {},
   "outputs": [
    {
     "data": {
      "text/plain": [
       "Text(0.5, 1.0, 'Distributions of TERRA Foci in U2OS Cells')"
      ]
     },
     "execution_count": 71,
     "metadata": {},
     "output_type": "execute_result"
    },
    {
     "data": {
      "image/png": "[encoded data removed]",
      "text/plain": [
       "<Figure size 792x432 with 1 Axes>"
      ]
     },
     "metadata": {},
     "output_type": "display_data"
    }
   ],
   "source": [
    "# Set up the matplotlib figure\n",
    "f, ax = plt.subplots(figsize=(11, 6))\n",
    "\n",
    "# Draw a violinplot with a narrower bandwidth than the default\n",
    "sns.violinplot(data=global_df, palette=\"Set3\", bw=.2, cut=1, linewidth=1)\n",
    "\n",
    "# Finalize the figure\n",
    "ax.set(ylim=(-5, 50),xlabel= \"Cell Conditions\", ylabel=\"Amount of TERRA Foci\")\n",
    "sns.despine(left=True, bottom=True)\n",
    "plt.title('Distributions of TERRA Foci in U2OS Cells')\n",
    "### Try to see if it can be truncated at 0 ###"
   ]
  },
  {
   "cell_type": "markdown",
   "id": "ee945857-0d1d-408b-8cff-e601799b6e94",
   "metadata": {},
   "source": [
    " It might be better to just show the violin plot, too much squeeze for the juice. Though, we do see a reinforcement of what is shown:\n",
    " - 2Gy very spread-out, with the maximum foci/cell being much higher than other conditions\n",
    " - 0Gy is morre spreead than the +RNAseA+H cells, but the maximum is not as high as the 2Gy\n",
    " - 2Gy & RNAseA+H are strongly clusteeres around 0 foci/cell, with a very low maximum\n",
    " - 0Gy & RNAseA+H are more distributed than the 2Gy & RNAseA+H Cells, but farr less than the -RNAseA+H cells. The middle seems to be around 5 foci/cell"
   ]
  },
  {
   "cell_type": "markdown",
   "id": "2608d2fd-1d08-4e0c-8cc5-2f871f4eef08",
   "metadata": {},
   "source": [
    "## Bar Plot"
   ]
  },
  {
   "cell_type": "code",
   "execution_count": 91,
   "id": "fb2a4a33-5750-4dff-b156-3ba8b1c54bf8",
   "metadata": {},
   "outputs": [
    {
     "data": {
      "text/html": [
       "<div>\n",
       "<style scoped>\n",
       "    .dataframe tbody tr th:only-of-type {\n",
       "        vertical-align: middle;\n",
       "    }\n",
       "\n",
       "    .dataframe tbody tr th {\n",
       "        vertical-align: top;\n",
       "    }\n",
       "\n",
       "    .dataframe thead th {\n",
       "        text-align: right;\n",
       "    }\n",
       "</style>\n",
       "<table border=\"1\" class=\"dataframe\">\n",
       "  <thead>\n",
       "    <tr style=\"text-align: right;\">\n",
       "      <th></th>\n",
       "      <th>Mean TERRA Foci Amounts</th>\n",
       "    </tr>\n",
       "  </thead>\n",
       "  <tbody>\n",
       "    <tr>\n",
       "      <th>2Gy</th>\n",
       "      <td>10.428571</td>\n",
       "    </tr>\n",
       "    <tr>\n",
       "      <th>0Gy</th>\n",
       "      <td>6.386555</td>\n",
       "    </tr>\n",
       "    <tr>\n",
       "      <th>2Gy &amp; RnaseA+H</th>\n",
       "      <td>1.705882</td>\n",
       "    </tr>\n",
       "    <tr>\n",
       "      <th>0Gy &amp; RnaseA+H</th>\n",
       "      <td>3.747899</td>\n",
       "    </tr>\n",
       "  </tbody>\n",
       "</table>\n",
       "</div>"
      ],
      "text/plain": [
       "                Mean TERRA Foci Amounts\n",
       "2Gy                           10.428571\n",
       "0Gy                            6.386555\n",
       "2Gy & RnaseA+H                 1.705882\n",
       "0Gy & RnaseA+H                 3.747899"
      ]
     },
     "execution_count": 91,
     "metadata": {},
     "output_type": "execute_result"
    }
   ],
   "source": [
    "#Creating a df for the TEERRA Foci means of each cell condition \n",
    "\n",
    "#global_df.mean() to find the means\n",
    "mean_global_df = pd.DataFrame({'2Gy':[10.428571], '0Gy': [6.386555],\n",
    "                               '2Gy & RnaseA+H': [1.705882], '0Gy & RnaseA+H':[ 3.747899]\n",
    "                                })\n",
    "\n",
    "#transpose and rename the df so that a barplot can be used\n",
    "mean_global_df = mean_global_df.T\n",
    "mean_global_df.columns = ['Mean TERRA Foci Amounts']\n",
    "\n",
    "mean_global_df.head()"
   ]
  },
  {
   "cell_type": "code",
   "execution_count": 99,
   "id": "6cc015a1-f5ca-4ebf-b24e-37cb3626d6df",
   "metadata": {},
   "outputs": [
    {
     "data": {
      "text/plain": [
       "Text(0.5, 1.0, 'Mean Amount of TERRA Foci')"
      ]
     },
     "execution_count": 99,
     "metadata": {},
     "output_type": "execute_result"
    },
    {
     "data": {
      "image/png": "[encoded data removed]",
      "text/plain": [
       "<Figure size 720x432 with 1 Axes>"
      ]
     },
     "metadata": {},
     "output_type": "display_data"
    }
   ],
   "source": [
    "#x= mean_global_df.columns\n",
    "\n",
    "plt.figure(figsize=(10,6))\n",
    "ax = sns.set(font_scale=1)\n",
    "ax = sns.barplot(x=mean_global_df.index, y='Mean TERRA Foci Amounts',\n",
    "                 data=mean_global_df)\n",
    "\n",
    "ax.set(xlabel='Cell Condition')\n",
    "plt.title('Mean Amount of TERRA Foci')\n",
    "\n",
    "## Do a box & whisker plot to show same thing but on one graph w/violin? ##\n",
    "## No Error bars b/c only one value in the df ##\n",
    "## Add stat significance ##"
   ]
  },
  {
   "cell_type": "markdown",
   "id": "0af3a286-8ff8-4cb0-8d05-1f13a5694d8f",
   "metadata": {},
   "source": [
    " It might be better to just show the violin plot, too much squeeze for the juice. Though, we do see a reinforcement of what is shown:\n",
    " - 2Gy Highest Foci/cell by far\n",
    " - 0Gy 2nd highest, but we shall see what the stats say\n",
    " - 2Gy & RNAseA+H very low which is an interesting point\n",
    " - 0Gy & RNAseA+H between the two lower, a curious point?????"
   ]
  },
  {
   "cell_type": "markdown",
   "id": "8c795396-9e1c-48b0-899c-0491be504d20",
   "metadata": {},
   "source": [
    "## Ridgeline Plot"
   ]
  },
  {
   "cell_type": "code",
   "execution_count": 131,
   "id": "d6feae82-6062-433e-84f7-c71591e221bf",
   "metadata": {},
   "outputs": [
    {
     "data": {
      "text/html": [
       "<div>\n",
       "<style scoped>\n",
       "    .dataframe tbody tr th:only-of-type {\n",
       "        vertical-align: middle;\n",
       "    }\n",
       "\n",
       "    .dataframe tbody tr th {\n",
       "        vertical-align: top;\n",
       "    }\n",
       "\n",
       "    .dataframe thead th {\n",
       "        text-align: right;\n",
       "    }\n",
       "</style>\n",
       "<table border=\"1\" class=\"dataframe\">\n",
       "  <thead>\n",
       "    <tr style=\"text-align: right;\">\n",
       "      <th></th>\n",
       "      <th>Distribution of TERRA Foci/Cell</th>\n",
       "      <th>Cell Condition</th>\n",
       "    </tr>\n",
       "  </thead>\n",
       "  <tbody>\n",
       "    <tr>\n",
       "      <th>0</th>\n",
       "      <td>14</td>\n",
       "      <td>2Gy</td>\n",
       "    </tr>\n",
       "    <tr>\n",
       "      <th>1</th>\n",
       "      <td>24</td>\n",
       "      <td>2Gy</td>\n",
       "    </tr>\n",
       "    <tr>\n",
       "      <th>2</th>\n",
       "      <td>19</td>\n",
       "      <td>2Gy</td>\n",
       "    </tr>\n",
       "    <tr>\n",
       "      <th>3</th>\n",
       "      <td>43</td>\n",
       "      <td>2Gy</td>\n",
       "    </tr>\n",
       "    <tr>\n",
       "      <th>4</th>\n",
       "      <td>17</td>\n",
       "      <td>2Gy</td>\n",
       "    </tr>\n",
       "  </tbody>\n",
       "</table>\n",
       "</div>"
      ],
      "text/plain": [
       "   Distribution of TERRA Foci/Cell Cell Condition\n",
       "0                               14            2Gy\n",
       "1                               24            2Gy\n",
       "2                               19            2Gy\n",
       "3                               43            2Gy\n",
       "4                               17            2Gy"
      ]
     },
     "execution_count": 131,
     "metadata": {},
     "output_type": "execute_result"
    }
   ],
   "source": [
    "#Getting anoter df so that the ridgeplot can work\n",
    "ridge_global_df = pd.read_excel('../Documents/global_DSB_TERRA.xlsx',\n",
    "                    sheet_name=1,\n",
    "                    skiprows = 0,\n",
    "                    usecols = ['Distribution of TERRA Foci/Cell', 'Cell Condition']\n",
    "                              )\n",
    "\n",
    "ridge_global_df.set_index(['Distribution of TERRA Foci/Cell'])\n",
    "ridge_global_df.dropna(axis=0, inplace=True) \n",
    "\n",
    "#ridge_global_df.columns\n",
    "ridge_global_df.head()"
   ]
  },
  {
   "cell_type": "code",
   "execution_count": 132,
   "id": "7ab25256-a813-4458-b66f-9c871f52ab51",
   "metadata": {},
   "outputs": [
    {
     "data": {
      "text/plain": [
       "<seaborn.axisgrid.FacetGrid at 0x13535b3a0>"
      ]
     },
     "execution_count": 132,
     "metadata": {},
     "output_type": "execute_result"
    },
    {
     "data": {
      "image/png": "[encoded data removed]",
      "text/plain": [
       "<Figure size 2160x576 with 4 Axes>"
      ]
     },
     "metadata": {},
     "output_type": "display_data"
    }
   ],
   "source": [
    "#Making the ridgeplot, special thanks to Seaborn for code help\n",
    "\n",
    "# Initialize the FacetGrid object\n",
    "pal = sns.cubehelix_palette(10, rot=-.25, light=.7)\n",
    "g = sns.FacetGrid(ridge_global_df, row=\"Cell Condition\", hue=\"Cell Condition\", aspect=15, height=2, palette=pal)\n",
    "\n",
    "# Draw the densities in a few steps\n",
    "g.map(sns.kdeplot, \"Distribution of TERRA Foci/Cell\",\n",
    "      bw_adjust=.5, clip_on=False,\n",
    "      fill=True, alpha=1, linewidth=1.5)\n",
    "g.map(sns.kdeplot, \"Distribution of TERRA Foci/Cell\", clip_on=False, color=\"w\", lw=2, bw_adjust=.5)\n",
    "g.map(plt.axhline, y=0, lw=2, clip_on=False)\n",
    "\n",
    "\n",
    "# Define and use a simple function to label the plot in axes coordinates\n",
    "def label(x, color, label):\n",
    "    ax = plt.gca()\n",
    "    ax.text(0, .2, label, fontweight=\"bold\", color=color,\n",
    "            ha=\"left\", va=\"center\", transform=ax.transAxes)\n",
    "\n",
    "\n",
    "g.map(label, \"Distribution of TERRA Foci/Cell\")\n",
    "\n",
    "# Set the subplots to overlap\n",
    "g.fig.subplots_adjust(hspace=0)\n",
    "\n",
    "# Remove axes details that don't play well with overlap\n",
    "g.set_titles(\"\")\n",
    "g.set(yticks=[])\n",
    "g.despine(bottom=True, left=True)"
   ]
  },
  {
   "cell_type": "markdown",
   "id": "3d7b2771-c9c1-4c1f-96e1-d90fee8165e4",
   "metadata": {},
   "source": [
    " It might be better to just show the violin plot, too much squeeze for the juice. Though, we do see a reinforcement of what is shown:\n",
    " - 2Gy very spread-out, with the maximum foci/cell being much higher than other conditions\n",
    " - 0Gy is morre spreead than the +RNAseA+H cells, but the maximum is not as high as the 2Gy\n",
    " - 2Gy & RNAseA+H are strongly clusteeres around 0 foci/cell, with a very low maximum\n",
    " - 0Gy & RNAseA+H are more distributed than the 2Gy & RNAseA+H Cells, but farr less than the -RNAseA+H cells. The middle seems to be around 5 foci/cell"
   ]
  },
  {
   "cell_type": "markdown",
   "id": "0ce6ab5d-5950-4be7-8ea4-22bb31d38359",
   "metadata": {},
   "source": [
    "# TERRA Locolizes to Telomeric DSBs\n",
    "  - What the experiment is (e.g. what is it testing and how):\n",
    "  - \"To measure the colocalization of FLAG and TERRA  RNA FISH and Immunostaining to label FLAG in positively transfected cells and compare it to untransfected population.\"\n",
    "  - to test wheather  this system allowed the formation of telomeric DSBs, cells were  fixed and immunostained to detect\n",
    "    - a.FLAG  ( to label the positvely transfected cells).\n",
    "    - b. yH2AX ( DSBs marker)\n",
    "    - c. Edu ( S phase marker) FUCCI marker (G2 marker). \n",
    "    - The fixed cells were also stained with G-rich labeld PNA probe  to detect Telomeres (C-rich strands).\n"
   ]
  },
  {
   "cell_type": "markdown",
   "id": "860dc8ba-7b9e-4daf-be87-8e17a50a754e",
   "metadata": {},
   "source": [
    "## Paired Box Plot"
   ]
  },
  {
   "cell_type": "markdown",
   "id": "efd76e0c-e816-483e-aed5-cc9b9906f9a4",
   "metadata": {},
   "source": [
    "## KDE plot"
   ]
  },
  {
   "cell_type": "code",
   "execution_count": null,
   "id": "3258aab0-bd16-4120-9018-7aa275d78c27",
   "metadata": {},
   "outputs": [],
   "source": []
  },
  {
   "cell_type": "code",
   "execution_count": null,
   "id": "9ea2b714-5a8e-454d-b7a8-f499f50b344b",
   "metadata": {},
   "outputs": [],
   "source": []
  },
  {
   "cell_type": "code",
   "execution_count": null,
   "id": "9bea29eb-cbc9-4664-992a-585a4788f8d5",
   "metadata": {},
   "outputs": [],
   "source": []
  },
  {
   "cell_type": "markdown",
   "id": "acf6233e-d0db-4021-af13-015ce5bc2db2",
   "metadata": {},
   "source": [
    "# TERRA locolization to Telomeric DSBs accumulated in the G2 phase of the cell cycle\n",
    "  - Same experiment but assesed based on cells transfected with:\n",
    "      - \"G1 (stained  ONLY  with DAPI), in S phase (stained with DAPI+EdU) and G2 ( cells stained with green FUCCI and DAPI) and then compared this to the number of TERRA foci in untransfected control.\"\n",
    "      - \"To measure the colocalization of FLAG and TERRA  RNA FISH and Immunostaining to label FLAG in positively transfected cells and compare it to untransfected population.\"\n",
    "      - to test wheather  this system allowed the formation of telomeric DSBs, cells were  fixed and immunostained to detect\n",
    "        - a.FLAG  ( to label the positvely transfected cells).\n",
    "        - b. yH2AX ( DSBs marker)\n",
    "        - c. Edu ( S phase marker) FUCCI marker (G2 marker). \n",
    "        - The fixed cells were also stained with G-rich labeld PNA probe  to detect Telomeres (C-rich strands)."
   ]
  },
  {
   "cell_type": "code",
   "execution_count": 17,
   "id": "2b8ffbfb-4520-4633-9f99-9453aa3f69d1",
   "metadata": {},
   "outputs": [
    {
     "data": {
      "text/html": [
       "<div>\n",
       "<style scoped>\n",
       "    .dataframe tbody tr th:only-of-type {\n",
       "        vertical-align: middle;\n",
       "    }\n",
       "\n",
       "    .dataframe tbody tr th {\n",
       "        vertical-align: top;\n",
       "    }\n",
       "\n",
       "    .dataframe thead th {\n",
       "        text-align: right;\n",
       "    }\n",
       "</style>\n",
       "<table border=\"1\" class=\"dataframe\">\n",
       "  <thead>\n",
       "    <tr style=\"text-align: right;\">\n",
       "      <th></th>\n",
       "      <th>Cells</th>\n",
       "      <th>no_RNAse_G1</th>\n",
       "      <th>no_RNAse_S</th>\n",
       "      <th>no_RNAse_G2</th>\n",
       "      <th>RNAse_G1</th>\n",
       "      <th>RNAse_S</th>\n",
       "      <th>RNAse_G2</th>\n",
       "    </tr>\n",
       "  </thead>\n",
       "  <tbody>\n",
       "    <tr>\n",
       "      <th>0</th>\n",
       "      <td>EN-T</td>\n",
       "      <td>19.189511</td>\n",
       "      <td>15.256257</td>\n",
       "      <td>65.554231</td>\n",
       "      <td>22.502870</td>\n",
       "      <td>15.614237</td>\n",
       "      <td>61.882893</td>\n",
       "    </tr>\n",
       "    <tr>\n",
       "      <th>1</th>\n",
       "      <td>TRF1</td>\n",
       "      <td>16.647264</td>\n",
       "      <td>9.429569</td>\n",
       "      <td>73.923166</td>\n",
       "      <td>26.991677</td>\n",
       "      <td>15.814507</td>\n",
       "      <td>57.193817</td>\n",
       "    </tr>\n",
       "    <tr>\n",
       "      <th>2</th>\n",
       "      <td>Empty</td>\n",
       "      <td>26.066897</td>\n",
       "      <td>7.843137</td>\n",
       "      <td>66.089965</td>\n",
       "      <td>35.797101</td>\n",
       "      <td>19.565217</td>\n",
       "      <td>44.637681</td>\n",
       "    </tr>\n",
       "    <tr>\n",
       "      <th>3</th>\n",
       "      <td>Untransfected</td>\n",
       "      <td>38.660287</td>\n",
       "      <td>12.631579</td>\n",
       "      <td>48.708134</td>\n",
       "      <td>53.526221</td>\n",
       "      <td>19.620253</td>\n",
       "      <td>26.853526</td>\n",
       "    </tr>\n",
       "  </tbody>\n",
       "</table>\n",
       "</div>"
      ],
      "text/plain": [
       "           Cells  no_RNAse_G1  no_RNAse_S  no_RNAse_G2   RNAse_G1    RNAse_S  \\\n",
       "0           EN-T    19.189511   15.256257    65.554231  22.502870  15.614237   \n",
       "1           TRF1    16.647264    9.429569    73.923166  26.991677  15.814507   \n",
       "2          Empty    26.066897    7.843137    66.089965  35.797101  19.565217   \n",
       "3  Untransfected    38.660287   12.631579    48.708134  53.526221  19.620253   \n",
       "\n",
       "    RNAse_G2  \n",
       "0  61.882893  \n",
       "1  57.193817  \n",
       "2  44.637681  \n",
       "3  26.853526  "
      ]
     },
     "execution_count": 17,
     "metadata": {},
     "output_type": "execute_result"
    }
   ],
   "source": [
    "g2_terra_num_df\n",
    "g2_terra_perc_df\n",
    "g2_cell_num_df\n",
    "g2_cell_perc_df\n",
    "\n"
   ]
  },
  {
   "cell_type": "markdown",
   "id": "eaa0d9c4-ce71-419d-9e0f-6887f49d2666",
   "metadata": {},
   "source": [
    "## KDE Plot"
   ]
  },
  {
   "cell_type": "code",
   "execution_count": 10,
   "id": "9ea1dac2-b592-428e-8883-08b0dd59cf5e",
   "metadata": {},
   "outputs": [
    {
     "data": {
      "text/html": [
       "<div>\n",
       "<style scoped>\n",
       "    .dataframe tbody tr th:only-of-type {\n",
       "        vertical-align: middle;\n",
       "    }\n",
       "\n",
       "    .dataframe tbody tr th {\n",
       "        vertical-align: top;\n",
       "    }\n",
       "\n",
       "    .dataframe thead th {\n",
       "        text-align: right;\n",
       "    }\n",
       "</style>\n",
       "<table border=\"1\" class=\"dataframe\">\n",
       "  <thead>\n",
       "    <tr style=\"text-align: right;\">\n",
       "      <th></th>\n",
       "      <th>Cells</th>\n",
       "      <th>no_RNAse_G1</th>\n",
       "      <th>no_RNAse_S</th>\n",
       "      <th>no_RNAse_G2</th>\n",
       "      <th>no_RNAse_total</th>\n",
       "      <th>RNAse_G1</th>\n",
       "      <th>RNAse_S</th>\n",
       "      <th>RNAse_G2</th>\n",
       "      <th>RNAse_total</th>\n",
       "    </tr>\n",
       "  </thead>\n",
       "  <tbody>\n",
       "    <tr>\n",
       "      <th>0</th>\n",
       "      <td>EN-T</td>\n",
       "      <td>294.8</td>\n",
       "      <td>325.1</td>\n",
       "      <td>1008.4</td>\n",
       "      <td>1628.3</td>\n",
       "      <td>82.0</td>\n",
       "      <td>48.0</td>\n",
       "      <td>201.5</td>\n",
       "      <td>331.5</td>\n",
       "    </tr>\n",
       "    <tr>\n",
       "      <th>1</th>\n",
       "      <td>TRF1</td>\n",
       "      <td>389.6</td>\n",
       "      <td>288.8</td>\n",
       "      <td>1591.9</td>\n",
       "      <td>2270.3</td>\n",
       "      <td>90.6</td>\n",
       "      <td>31.6</td>\n",
       "      <td>254.1</td>\n",
       "      <td>376.3</td>\n",
       "    </tr>\n",
       "    <tr>\n",
       "      <th>2</th>\n",
       "      <td>Empty</td>\n",
       "      <td>398.7</td>\n",
       "      <td>184.0</td>\n",
       "      <td>1168.6</td>\n",
       "      <td>1751.3</td>\n",
       "      <td>155.2</td>\n",
       "      <td>40.1</td>\n",
       "      <td>142.5</td>\n",
       "      <td>337.8</td>\n",
       "    </tr>\n",
       "    <tr>\n",
       "      <th>3</th>\n",
       "      <td>Untransfected</td>\n",
       "      <td>809.6</td>\n",
       "      <td>300.7</td>\n",
       "      <td>929.0</td>\n",
       "      <td>2039.3</td>\n",
       "      <td>119.3</td>\n",
       "      <td>35.2</td>\n",
       "      <td>65.1</td>\n",
       "      <td>219.6</td>\n",
       "    </tr>\n",
       "  </tbody>\n",
       "</table>\n",
       "</div>"
      ],
      "text/plain": [
       "           Cells  no_RNAse_G1  no_RNAse_S  no_RNAse_G2  no_RNAse_total  \\\n",
       "0           EN-T        294.8       325.1       1008.4          1628.3   \n",
       "1           TRF1        389.6       288.8       1591.9          2270.3   \n",
       "2          Empty        398.7       184.0       1168.6          1751.3   \n",
       "3  Untransfected        809.6       300.7        929.0          2039.3   \n",
       "\n",
       "   RNAse_G1  RNAse_S  RNAse_G2  RNAse_total  \n",
       "0      82.0     48.0     201.5        331.5  \n",
       "1      90.6     31.6     254.1        376.3  \n",
       "2     155.2     40.1     142.5        337.8  \n",
       "3     119.3     35.2      65.1        219.6  "
      ]
     },
     "execution_count": 10,
     "metadata": {},
     "output_type": "execute_result"
    }
   ],
   "source": [
    "g2_terra_num_df"
   ]
  },
  {
   "cell_type": "code",
   "execution_count": 21,
   "id": "cc5fcbb6-da58-4998-bc0f-4833ea5e495b",
   "metadata": {},
   "outputs": [
    {
     "data": {
      "image/png": "[encoded data removed]",
      "text/plain": [
       "<Figure size 432x108 with 4 Axes>"
      ]
     },
     "metadata": {},
     "output_type": "display_data"
    }
   ],
   "source": [
    "# Initialize a grid of plots with an Axes for each walk\n",
    "grid = sns.FacetGrid(g2_terra_num_df, col=\"Cells\", hue=\"Cells\", palette=\"tab20c\",\n",
    "                     col_wrap=4, height=1.5)\n",
    "\n",
    "# Draw a horizontal line to show the starting point\n",
    "#grid.map(plt.axhline, y=0, ls=\":\", c=\".5\")\n",
    "\n",
    "# Draw a line plot to show the trajectory of each random walk\n",
    "#grid.map(plt.plot, \"step\", \"position\", marker=\"o\")\n",
    "\n",
    "# Adjust the tick positions and labels\n",
    "grid.set(xticks=np.arange(1), yticks=[ 2000],\n",
    "         xlim=(0, 1), ylim=(0, 1))\n",
    "\n",
    "# Adjust the arrangement of the plots\n",
    "grid.fig.tight_layout(w_pad=1)"
   ]
  },
  {
   "cell_type": "code",
   "execution_count": null,
   "id": "619f4b77-d928-4681-b5e6-1c628967e91c",
   "metadata": {},
   "outputs": [],
   "source": []
  },
  {
   "cell_type": "code",
   "execution_count": null,
   "id": "9a34894e-bd54-4038-9c34-84fd97514e2b",
   "metadata": {},
   "outputs": [],
   "source": []
  },
  {
   "cell_type": "code",
   "execution_count": null,
   "id": "ddd5a590-d605-4476-bd5b-04fddfbcd03f",
   "metadata": {},
   "outputs": [],
   "source": []
  },
  {
   "cell_type": "markdown",
   "id": "35175bee-9387-457d-b77c-2d37e01863f3",
   "metadata": {},
   "source": [
    "# Conclusions "
   ]
  },
  {
   "cell_type": "code",
   "execution_count": null,
   "id": "99c359e4-a4c8-4d03-8354-3472c5377411",
   "metadata": {},
   "outputs": [],
   "source": []
  }
 ],
 "metadata": {
  "kernelspec": {
   "display_name": "Python 3",
   "language": "python",
   "name": "python3"
  },
  "language_info": {
   "codemirror_mode": {
    "name": "ipython",
    "version": 3
   },
   "file_extension": ".py",
   "mimetype": "text/x-python",
   "name": "python",
   "nbconvert_exporter": "python",
   "pygments_lexer": "ipython3",
   "version": "3.8.5"
  },
  "toc-autonumbering": false
 },
 "nbformat": 4,
 "nbformat_minor": 5
}
