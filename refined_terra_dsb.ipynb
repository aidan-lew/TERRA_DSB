{
 "cells": [
  {
   "cell_type": "markdown",
   "id": "7c69d19a-6c11-4085-a802-d6873e3a96d8",
   "metadata": {},
   "source": [
    "# TERRA Colocolizes to Double Stranded Breaks (DSBs), esp. in G2\n",
    "This project is the data analysis of Dr. Taghreed Mohammed Al Turki's PhD data, in continuation of Chris Nelson's(?) previous work. The objective is to eelucidate if TERRA locolizes to global DSBs, to telomeric DSB's, and which phase of the cell cycle does TERRA colocolize to telo DSBs. "
   ]
  },
  {
   "cell_type": "code",
   "execution_count": 1,
   "id": "76820809-caa0-455a-a723-afe25352fb58",
   "metadata": {},
   "outputs": [
    {
     "name": "stdout",
     "output_type": "stream",
     "text": [
      "Setup Complete\n"
     ]
    }
   ],
   "source": [
    "# handling data\n",
    "import pandas as pd\n",
    "import numpy as np\n",
    "\n",
    "# visualizing data\n",
    "import seaborn as sns\n",
    "import matplotlib.pyplot as plt\n",
    "sns.set_style(\"darkgrid\")\n",
    "\n",
    "# Statistics\n",
    "from scipy import stats\n",
    "import statsmodels.api as sm\n",
    "import statsmodels.imputation.mice as smi\n",
    "import scipy.cluster.hierarchy as hac\n",
    "from statsmodels.stats.multicomp import pairwise_tukeyhsd\n",
    "import matplotlib.gridspec as gridspec\n",
    "import math\n",
    "import random\n",
    "\n",
    "\n",
    "#SHAP Value Stuff\n",
    "import shap\n",
    "from shap import TreeExplainer\n",
    "from shap import GradientExplainer\n",
    "from shap import DeepExplainer\n",
    "from shap import KernelExplainer\n",
    "from shap import SamplingExplainer\n",
    "from shap import PartitionExplainer\n",
    "\n",
    "print(\"Setup Complete\")"
   ]
  },
  {
   "cell_type": "code",
   "execution_count": 2,
   "id": "a8c18154-d124-49af-9292-8e823834524b",
   "metadata": {},
   "outputs": [
    {
     "name": "stdout",
     "output_type": "stream",
     "text": [
      "/Users/aidanlew/Documents\n"
     ]
    }
   ],
   "source": [
    "cd '/Users/aidanlew/Documents'"
   ]
  },
  {
   "cell_type": "markdown",
   "id": "5452517e-c207-4193-94e9-03b4d53de153",
   "metadata": {},
   "source": [
    "# Setting up the data\n",
    "\n",
    "We want the data to be read by the program environment so that we can run quick and accurate analysis further on."
   ]
  },
  {
   "cell_type": "code",
   "execution_count": 3,
   "id": "bc57afb2-e723-4f47-a6da-7495da8ca03c",
   "metadata": {},
   "outputs": [
    {
     "data": {
      "text/html": [
       "<div>\n",
       "<style scoped>\n",
       "    .dataframe tbody tr th:only-of-type {\n",
       "        vertical-align: middle;\n",
       "    }\n",
       "\n",
       "    .dataframe tbody tr th {\n",
       "        vertical-align: top;\n",
       "    }\n",
       "\n",
       "    .dataframe thead th {\n",
       "        text-align: right;\n",
       "    }\n",
       "</style>\n",
       "<table border=\"1\" class=\"dataframe\">\n",
       "  <thead>\n",
       "    <tr style=\"text-align: right;\">\n",
       "      <th></th>\n",
       "      <th>Distribution of TERRA Foci/Cell</th>\n",
       "      <th>Cell Condition</th>\n",
       "    </tr>\n",
       "  </thead>\n",
       "  <tbody>\n",
       "    <tr>\n",
       "      <th>0</th>\n",
       "      <td>14</td>\n",
       "      <td>2Gy</td>\n",
       "    </tr>\n",
       "    <tr>\n",
       "      <th>1</th>\n",
       "      <td>24</td>\n",
       "      <td>2Gy</td>\n",
       "    </tr>\n",
       "    <tr>\n",
       "      <th>2</th>\n",
       "      <td>19</td>\n",
       "      <td>2Gy</td>\n",
       "    </tr>\n",
       "    <tr>\n",
       "      <th>3</th>\n",
       "      <td>43</td>\n",
       "      <td>2Gy</td>\n",
       "    </tr>\n",
       "    <tr>\n",
       "      <th>4</th>\n",
       "      <td>17</td>\n",
       "      <td>2Gy</td>\n",
       "    </tr>\n",
       "  </tbody>\n",
       "</table>\n",
       "</div>"
      ],
      "text/plain": [
       "   Distribution of TERRA Foci/Cell Cell Condition\n",
       "0                               14            2Gy\n",
       "1                               24            2Gy\n",
       "2                               19            2Gy\n",
       "3                               43            2Gy\n",
       "4                               17            2Gy"
      ]
     },
     "execution_count": 3,
     "metadata": {},
     "output_type": "execute_result"
    }
   ],
   "source": [
    "### REMEBER TO SAVE AS CSV FOR GITHUB ###\n",
    "\n",
    "#Data for Global DSB analyis\n",
    "global_df = pd.read_excel('../Documents/global_DSB_TERRA.xlsx',\n",
    "                    sheet_name=1,\n",
    "                    skiprows = 0,\n",
    "                    usecols = ['Distribution of TERRA Foci/Cell', 'Cell Condition']\n",
    "                              )\n",
    "\n",
    "global_df.set_index(['Distribution of TERRA Foci/Cell'])\n",
    "global_df.dropna(axis=0, inplace=True) \n",
    "\n",
    "#global_df.columns\n",
    "global_df.head()"
   ]
  },
  {
   "cell_type": "code",
   "execution_count": 4,
   "id": "6ff7a333-c4e6-4ec0-999c-1b30ab4092e6",
   "metadata": {},
   "outputs": [
    {
     "data": {
      "text/html": [
       "<div>\n",
       "<style scoped>\n",
       "    .dataframe tbody tr th:only-of-type {\n",
       "        vertical-align: middle;\n",
       "    }\n",
       "\n",
       "    .dataframe tbody tr th {\n",
       "        vertical-align: top;\n",
       "    }\n",
       "\n",
       "    .dataframe thead th {\n",
       "        text-align: right;\n",
       "    }\n",
       "</style>\n",
       "<table border=\"1\" class=\"dataframe\">\n",
       "  <thead>\n",
       "    <tr style=\"text-align: right;\">\n",
       "      <th></th>\n",
       "      <th>2Gy</th>\n",
       "      <th>0Gy</th>\n",
       "      <th>2Gy &amp; RNAseA+H</th>\n",
       "      <th>0Gy &amp; RNAseA+H</th>\n",
       "    </tr>\n",
       "  </thead>\n",
       "  <tbody>\n",
       "    <tr>\n",
       "      <th>0</th>\n",
       "      <td>14</td>\n",
       "      <td>2</td>\n",
       "      <td>1.0</td>\n",
       "      <td>8</td>\n",
       "    </tr>\n",
       "    <tr>\n",
       "      <th>1</th>\n",
       "      <td>24</td>\n",
       "      <td>2</td>\n",
       "      <td>0.0</td>\n",
       "      <td>5</td>\n",
       "    </tr>\n",
       "    <tr>\n",
       "      <th>2</th>\n",
       "      <td>19</td>\n",
       "      <td>1</td>\n",
       "      <td>3.0</td>\n",
       "      <td>5</td>\n",
       "    </tr>\n",
       "    <tr>\n",
       "      <th>3</th>\n",
       "      <td>43</td>\n",
       "      <td>0</td>\n",
       "      <td>1.0</td>\n",
       "      <td>8</td>\n",
       "    </tr>\n",
       "    <tr>\n",
       "      <th>4</th>\n",
       "      <td>17</td>\n",
       "      <td>11</td>\n",
       "      <td>1.0</td>\n",
       "      <td>6</td>\n",
       "    </tr>\n",
       "  </tbody>\n",
       "</table>\n",
       "</div>"
      ],
      "text/plain": [
       "   2Gy  0Gy  2Gy & RNAseA+H  0Gy & RNAseA+H\n",
       "0   14    2             1.0               8\n",
       "1   24    2             0.0               5\n",
       "2   19    1             3.0               5\n",
       "3   43    0             1.0               8\n",
       "4   17   11             1.0               6"
      ]
     },
     "execution_count": 4,
     "metadata": {},
     "output_type": "execute_result"
    }
   ],
   "source": [
    "### REMEBER TO SAVE AS CSV FOR GITHUB ###\n",
    "\n",
    "#Data for Global DSB analyis\n",
    "global_pivot_df = pd.read_excel('../Documents/global_DSB_TERRA.xlsx',\n",
    "                    sheet_name=0,\n",
    "                    skiprows = 0,\n",
    "                    #usecols = ['Distribution of TERRA Foci/Cell', 'Cell Condition']\n",
    "                              )\n",
    "\n",
    "global_pivot_df.set_index(['2Gy'])\n",
    "global_pivot_df.dropna(axis=0, inplace=True) \n",
    "\n",
    "#global_pivot_df.columns\n",
    "global_pivot_df.head()"
   ]
  },
  {
   "cell_type": "code",
   "execution_count": 5,
   "id": "9eac7dfd-39be-45b8-9a21-ef11ac5f4bed",
   "metadata": {},
   "outputs": [
    {
     "data": {
      "text/html": [
       "<div>\n",
       "<style scoped>\n",
       "    .dataframe tbody tr th:only-of-type {\n",
       "        vertical-align: middle;\n",
       "    }\n",
       "\n",
       "    .dataframe tbody tr th {\n",
       "        vertical-align: top;\n",
       "    }\n",
       "\n",
       "    .dataframe thead th {\n",
       "        text-align: right;\n",
       "    }\n",
       "</style>\n",
       "<table border=\"1\" class=\"dataframe\">\n",
       "  <thead>\n",
       "    <tr style=\"text-align: right;\">\n",
       "      <th></th>\n",
       "      <th>Cell_condition</th>\n",
       "      <th>Colocolization</th>\n",
       "      <th>total_foci</th>\n",
       "      <th>foci_per_cell</th>\n",
       "    </tr>\n",
       "  </thead>\n",
       "  <tbody>\n",
       "    <tr>\n",
       "      <th>0</th>\n",
       "      <td>EN-T</td>\n",
       "      <td>FLAG v. TERRA</td>\n",
       "      <td>689.5</td>\n",
       "      <td>25.072727</td>\n",
       "    </tr>\n",
       "    <tr>\n",
       "      <th>1</th>\n",
       "      <td>TRF1</td>\n",
       "      <td>FLAG v. TERRA</td>\n",
       "      <td>651.5</td>\n",
       "      <td>21.716667</td>\n",
       "    </tr>\n",
       "    <tr>\n",
       "      <th>2</th>\n",
       "      <td>Empty</td>\n",
       "      <td>FLAG v. TERRA</td>\n",
       "      <td>9.5</td>\n",
       "      <td>0.904762</td>\n",
       "    </tr>\n",
       "    <tr>\n",
       "      <th>3</th>\n",
       "      <td>Untransfected</td>\n",
       "      <td>FLAG v. TERRA</td>\n",
       "      <td>0.0</td>\n",
       "      <td>0.000000</td>\n",
       "    </tr>\n",
       "    <tr>\n",
       "      <th>4</th>\n",
       "      <td>EN-T &amp; RNAseA+H</td>\n",
       "      <td>FLAG v. TERRA</td>\n",
       "      <td>480.5</td>\n",
       "      <td>24.641026</td>\n",
       "    </tr>\n",
       "  </tbody>\n",
       "</table>\n",
       "</div>"
      ],
      "text/plain": [
       "    Cell_condition Colocolization  total_foci  foci_per_cell\n",
       "0             EN-T  FLAG v. TERRA       689.5      25.072727\n",
       "1             TRF1  FLAG v. TERRA       651.5      21.716667\n",
       "2            Empty  FLAG v. TERRA         9.5       0.904762\n",
       "3    Untransfected  FLAG v. TERRA         0.0       0.000000\n",
       "4  EN-T & RNAseA+H  FLAG v. TERRA       480.5      24.641026"
      ]
     },
     "execution_count": 5,
     "metadata": {},
     "output_type": "execute_result"
    }
   ],
   "source": [
    "#Data for telo DSB analyis\n",
    "telo_df = pd.read_excel('../Documents/telomere_DSB_TERRA.xlsx',\n",
    "                    sheet_name=6,\n",
    "                    skiprows = 0,\n",
    "                    usecols = ['Cell_condition', 'Colocolization','total_foci','foci_per_cell'\n",
    "                               \n",
    "                              ] \n",
    "                         )\n",
    "\n",
    "telo_df.set_index(['Cell_condition'])#good way to fix \"not in axis issue\"\n",
    "telo_df.dropna(axis=0, inplace=True) #sweet, iloc and drop didn't work, but this did\n",
    "\n",
    "\n",
    "#telo_df.columns()\n",
    "telo_df.head()"
   ]
  },
  {
   "cell_type": "code",
   "execution_count": 18,
   "id": "5e02df93-ae36-4d95-8bb7-9298727913e0",
   "metadata": {},
   "outputs": [
    {
     "data": {
      "text/html": [
       "<div>\n",
       "<style scoped>\n",
       "    .dataframe tbody tr th:only-of-type {\n",
       "        vertical-align: middle;\n",
       "    }\n",
       "\n",
       "    .dataframe tbody tr th {\n",
       "        vertical-align: top;\n",
       "    }\n",
       "\n",
       "    .dataframe thead th {\n",
       "        text-align: right;\n",
       "    }\n",
       "</style>\n",
       "<table border=\"1\" class=\"dataframe\">\n",
       "  <thead>\n",
       "    <tr style=\"text-align: right;\">\n",
       "      <th></th>\n",
       "      <th>Cell Condition</th>\n",
       "      <th>FLAG v. TERRA</th>\n",
       "      <th>FLAG v. TRF2 v. TERRA</th>\n",
       "      <th>TRF2 v. TERRA</th>\n",
       "    </tr>\n",
       "  </thead>\n",
       "  <tbody>\n",
       "    <tr>\n",
       "      <th>0</th>\n",
       "      <td>EN-T</td>\n",
       "      <td>25.072727</td>\n",
       "      <td>7.436364</td>\n",
       "      <td>0.181818</td>\n",
       "    </tr>\n",
       "    <tr>\n",
       "      <th>1</th>\n",
       "      <td>TRF1</td>\n",
       "      <td>21.716667</td>\n",
       "      <td>10.050000</td>\n",
       "      <td>0.616667</td>\n",
       "    </tr>\n",
       "    <tr>\n",
       "      <th>2</th>\n",
       "      <td>Empty</td>\n",
       "      <td>0.904762</td>\n",
       "      <td>1.857143</td>\n",
       "      <td>10.476190</td>\n",
       "    </tr>\n",
       "    <tr>\n",
       "      <th>3</th>\n",
       "      <td>Untransfected</td>\n",
       "      <td>0.000000</td>\n",
       "      <td>0.000000</td>\n",
       "      <td>0.000000</td>\n",
       "    </tr>\n",
       "    <tr>\n",
       "      <th>4</th>\n",
       "      <td>EN-T &amp; RNAseA+H</td>\n",
       "      <td>24.641026</td>\n",
       "      <td>2.923077</td>\n",
       "      <td>0.179487</td>\n",
       "    </tr>\n",
       "  </tbody>\n",
       "</table>\n",
       "</div>"
      ],
      "text/plain": [
       "    Cell Condition  FLAG v. TERRA  FLAG v. TRF2 v. TERRA  TRF2 v. TERRA\n",
       "0             EN-T      25.072727               7.436364       0.181818\n",
       "1             TRF1      21.716667              10.050000       0.616667\n",
       "2            Empty       0.904762               1.857143      10.476190\n",
       "3    Untransfected       0.000000               0.000000       0.000000\n",
       "4  EN-T & RNAseA+H      24.641026               2.923077       0.179487"
      ]
     },
     "execution_count": 18,
     "metadata": {},
     "output_type": "execute_result"
    }
   ],
   "source": [
    "#Data for telo DSB analyis\n",
    "telo_coloc_df = pd.read_excel('../Documents/telomere_DSB_TERRA.xlsx',\n",
    "                    sheet_name=7,\n",
    "                    skiprows = 0,\n",
    "                    usecols = ['Cell Condition', 'FLAG v. TERRA','FLAG v. TRF2 v. TERRA','TRF2 v. TERRA'\n",
    "                               \n",
    "                              ] \n",
    "                         )\n",
    "\n",
    "telo_coloc_df.set_index(['Cell Condition'])#good way to fix \"not in axis issue\"\n",
    "telo_coloc_df.dropna(axis=0, inplace=True) #sweet, iloc and drop didn't work, but this did\n",
    "\n",
    "\n",
    "#telo_coloc_df.columns()\n",
    "telo_coloc_df.head()"
   ]
  },
  {
   "cell_type": "code",
   "execution_count": 20,
   "id": "41ecc236-119b-45d4-b0c0-21bc62e916b7",
   "metadata": {},
   "outputs": [
    {
     "data": {
      "text/html": [
       "<div>\n",
       "<style scoped>\n",
       "    .dataframe tbody tr th:only-of-type {\n",
       "        vertical-align: middle;\n",
       "    }\n",
       "\n",
       "    .dataframe tbody tr th {\n",
       "        vertical-align: top;\n",
       "    }\n",
       "\n",
       "    .dataframe thead th {\n",
       "        text-align: right;\n",
       "    }\n",
       "</style>\n",
       "<table border=\"1\" class=\"dataframe\">\n",
       "  <thead>\n",
       "    <tr style=\"text-align: right;\">\n",
       "      <th></th>\n",
       "      <th>Colocolization</th>\n",
       "      <th>EN-T</th>\n",
       "      <th>TRF1</th>\n",
       "      <th>Empty</th>\n",
       "      <th>Untransfected</th>\n",
       "      <th>EN-T &amp; RNAseA+H</th>\n",
       "      <th>TRF1 &amp; RNAseA+H</th>\n",
       "      <th>Empty &amp; RNAseA+H</th>\n",
       "      <th>Untransfected &amp; RNAseA+H</th>\n",
       "    </tr>\n",
       "  </thead>\n",
       "  <tbody>\n",
       "    <tr>\n",
       "      <th>0</th>\n",
       "      <td>FLAG v. TERRA</td>\n",
       "      <td>25.072727</td>\n",
       "      <td>21.716667</td>\n",
       "      <td>0.904762</td>\n",
       "      <td>0.000000</td>\n",
       "      <td>24.641026</td>\n",
       "      <td>11.380952</td>\n",
       "      <td>7.500000</td>\n",
       "      <td>0.0</td>\n",
       "    </tr>\n",
       "    <tr>\n",
       "      <th>1</th>\n",
       "      <td>FLAG v. TERRA</td>\n",
       "      <td>39.486486</td>\n",
       "      <td>32.428571</td>\n",
       "      <td>13.095238</td>\n",
       "      <td>0.000000</td>\n",
       "      <td>18.000000</td>\n",
       "      <td>29.051724</td>\n",
       "      <td>12.631579</td>\n",
       "      <td>0.0</td>\n",
       "    </tr>\n",
       "    <tr>\n",
       "      <th>2</th>\n",
       "      <td>FLAG v. TERRA</td>\n",
       "      <td>36.553191</td>\n",
       "      <td>35.602564</td>\n",
       "      <td>8.697674</td>\n",
       "      <td>0.000000</td>\n",
       "      <td>26.000000</td>\n",
       "      <td>26.741935</td>\n",
       "      <td>20.509091</td>\n",
       "      <td>0.0</td>\n",
       "    </tr>\n",
       "    <tr>\n",
       "      <th>3</th>\n",
       "      <td>FLAG v. TERRA</td>\n",
       "      <td>44.680851</td>\n",
       "      <td>42.129870</td>\n",
       "      <td>8.916667</td>\n",
       "      <td>8.666667</td>\n",
       "      <td>30.640000</td>\n",
       "      <td>39.086957</td>\n",
       "      <td>4.642857</td>\n",
       "      <td>0.0</td>\n",
       "    </tr>\n",
       "    <tr>\n",
       "      <th>4</th>\n",
       "      <td>FLAG v. TERRA</td>\n",
       "      <td>32.786885</td>\n",
       "      <td>37.803279</td>\n",
       "      <td>7.457143</td>\n",
       "      <td>0.000000</td>\n",
       "      <td>15.264706</td>\n",
       "      <td>18.382979</td>\n",
       "      <td>8.228571</td>\n",
       "      <td>0.0</td>\n",
       "    </tr>\n",
       "  </tbody>\n",
       "</table>\n",
       "</div>"
      ],
      "text/plain": [
       "  Colocolization       EN-T       TRF1      Empty  Untransfected  \\\n",
       "0  FLAG v. TERRA  25.072727  21.716667   0.904762       0.000000   \n",
       "1  FLAG v. TERRA  39.486486  32.428571  13.095238       0.000000   \n",
       "2  FLAG v. TERRA  36.553191  35.602564   8.697674       0.000000   \n",
       "3  FLAG v. TERRA  44.680851  42.129870   8.916667       8.666667   \n",
       "4  FLAG v. TERRA  32.786885  37.803279   7.457143       0.000000   \n",
       "\n",
       "   EN-T & RNAseA+H  TRF1 & RNAseA+H  Empty & RNAseA+H  \\\n",
       "0        24.641026        11.380952          7.500000   \n",
       "1        18.000000        29.051724         12.631579   \n",
       "2        26.000000        26.741935         20.509091   \n",
       "3        30.640000        39.086957          4.642857   \n",
       "4        15.264706        18.382979          8.228571   \n",
       "\n",
       "   Untransfected & RNAseA+H  \n",
       "0                       0.0  \n",
       "1                       0.0  \n",
       "2                       0.0  \n",
       "3                       0.0  \n",
       "4                       0.0  "
      ]
     },
     "execution_count": 20,
     "metadata": {},
     "output_type": "execute_result"
    }
   ],
   "source": [
    "#Data for telo DSB analyis\n",
    "telo_cell_df = pd.read_excel('../Documents/telomere_DSB_TERRA.xlsx',\n",
    "                    sheet_name=8,\n",
    "                    skiprows = 0,\n",
    "                    usecols = ['Colocolization', 'EN-T','TRF1','Empty','Untransfected','EN-T & RNAseA+H',\n",
    "                               'TRF1 & RNAseA+H','Empty & RNAseA+H','Untransfected & RNAseA+H'   \n",
    "                              ] \n",
    "                         )\n",
    "\n",
    "telo_cell_df.set_index(['Colocolization'])#good way to fix \"not in axis issue\"\n",
    "telo_cell_df.dropna(axis=0, inplace=True) #sweet, iloc and drop didn't work, but this did\n",
    "\n",
    "\n",
    "#telo_cell_df.columns()\n",
    "telo_cell_df.head()"
   ]
  },
  {
   "cell_type": "code",
   "execution_count": 6,
   "id": "416a03d2-c1cd-4209-826d-b847cb780d99",
   "metadata": {},
   "outputs": [
    {
     "data": {
      "text/html": [
       "<div>\n",
       "<style scoped>\n",
       "    .dataframe tbody tr th:only-of-type {\n",
       "        vertical-align: middle;\n",
       "    }\n",
       "\n",
       "    .dataframe tbody tr th {\n",
       "        vertical-align: top;\n",
       "    }\n",
       "\n",
       "    .dataframe thead th {\n",
       "        text-align: right;\n",
       "    }\n",
       "</style>\n",
       "<table border=\"1\" class=\"dataframe\">\n",
       "  <thead>\n",
       "    <tr style=\"text-align: right;\">\n",
       "      <th></th>\n",
       "      <th>Cell_condition</th>\n",
       "      <th>Phase</th>\n",
       "      <th>TERRA Amount</th>\n",
       "      <th>TERRA_%_In_Phase</th>\n",
       "      <th>Cell_Amount</th>\n",
       "      <th>Cell_%_In_Phase</th>\n",
       "    </tr>\n",
       "  </thead>\n",
       "  <tbody>\n",
       "    <tr>\n",
       "      <th>0</th>\n",
       "      <td>EN-T</td>\n",
       "      <td>G1</td>\n",
       "      <td>194.0</td>\n",
       "      <td>18.716836</td>\n",
       "      <td>17.5</td>\n",
       "      <td>19.444444</td>\n",
       "    </tr>\n",
       "    <tr>\n",
       "      <th>1</th>\n",
       "      <td>TRF1</td>\n",
       "      <td>G1</td>\n",
       "      <td>64.5</td>\n",
       "      <td>8.945908</td>\n",
       "      <td>8.5</td>\n",
       "      <td>14.406780</td>\n",
       "    </tr>\n",
       "    <tr>\n",
       "      <th>2</th>\n",
       "      <td>Empty</td>\n",
       "      <td>G1</td>\n",
       "      <td>132.0</td>\n",
       "      <td>10.806386</td>\n",
       "      <td>9.0</td>\n",
       "      <td>11.920530</td>\n",
       "    </tr>\n",
       "    <tr>\n",
       "      <th>3</th>\n",
       "      <td>Untransfected</td>\n",
       "      <td>G1</td>\n",
       "      <td>697.5</td>\n",
       "      <td>55.979133</td>\n",
       "      <td>34.0</td>\n",
       "      <td>39.766082</td>\n",
       "    </tr>\n",
       "    <tr>\n",
       "      <th>4</th>\n",
       "      <td>EN-T</td>\n",
       "      <td>G1</td>\n",
       "      <td>374.0</td>\n",
       "      <td>20.999439</td>\n",
       "      <td>21.0</td>\n",
       "      <td>21.428571</td>\n",
       "    </tr>\n",
       "    <tr>\n",
       "      <th>5</th>\n",
       "      <td>TRF1</td>\n",
       "      <td>G1</td>\n",
       "      <td>498.0</td>\n",
       "      <td>18.437616</td>\n",
       "      <td>14.5</td>\n",
       "      <td>14.795918</td>\n",
       "    </tr>\n",
       "  </tbody>\n",
       "</table>\n",
       "</div>"
      ],
      "text/plain": [
       "  Cell_condition Phase  TERRA Amount  TERRA_%_In_Phase  Cell_Amount  \\\n",
       "0           EN-T    G1         194.0         18.716836         17.5   \n",
       "1           TRF1    G1          64.5          8.945908          8.5   \n",
       "2          Empty    G1         132.0         10.806386          9.0   \n",
       "3  Untransfected    G1         697.5         55.979133         34.0   \n",
       "4           EN-T    G1         374.0         20.999439         21.0   \n",
       "5           TRF1    G1         498.0         18.437616         14.5   \n",
       "\n",
       "   Cell_%_In_Phase  \n",
       "0        19.444444  \n",
       "1        14.406780  \n",
       "2        11.920530  \n",
       "3        39.766082  \n",
       "4        21.428571  \n",
       "5        14.795918  "
      ]
     },
     "execution_count": 6,
     "metadata": {},
     "output_type": "execute_result"
    }
   ],
   "source": [
    "# To look at the relationship betweeen cell accumulation and TERRA accumulation per phase\n",
    "g2_df = pd.read_excel('../Documents/telomere_G2_DSB_TERRA.xlsx',\n",
    "                    sheet_name=5,\n",
    "                    skiprows = 0,\n",
    "                    usecols = ['Cell_condition', 'Phase','TERRA Amount','Cell_Amount',\n",
    "                               'TERRA_%_In_Phase','Cell_%_In_Phase'] \n",
    "                         )\n",
    "\n",
    "g2_df.set_index(['Cell_condition'])#good way to fix \"not in axis issue\"\n",
    "g2_df.dropna(axis=0, inplace=True) #sweet, iloc and drop didn't work, but this did\n",
    "\n",
    "\n",
    "#g2_df.columns()\n",
    "g2_df.head(6)"
   ]
  },
  {
   "cell_type": "markdown",
   "id": "2abb2b8f-ce6f-40c9-812a-63170267c113",
   "metadata": {},
   "source": [
    "# TERRA Responds to Global DSBs\n",
    "   - What the experiment is (e.g. what is it testing and how):\n",
    "   - \"To induce Global DSBs, U2OS cells were treated with 2 gy Gamma rays, recovered for 4 hours, fixed.\" \n",
    "   - \"To evaluate the induction of TERRA in response to the Global DSBs, the fixed cells were stained with C-rich labeld PNA probe. The experiment was repeated and cells were treated with a cocktail of  Rnase H and A for the removal of TERRA foci (negative control).\" \n"
   ]
  },
  {
   "cell_type": "markdown",
   "id": "96473b0e-282e-4c63-8a47-755671f5d028",
   "metadata": {},
   "source": [
    "## Bar Plot"
   ]
  },
  {
   "cell_type": "code",
   "execution_count": 7,
   "id": "c9d336f1-23af-470b-a2c1-d4611caf5e8e",
   "metadata": {},
   "outputs": [
    {
     "data": {
      "text/plain": [
       "[None, None, None, None, None, None, None, None]"
      ]
     },
     "execution_count": 7,
     "metadata": {},
     "output_type": "execute_result"
    },
    {
     "data": {
      "image/png": "[encoded data removed]",
      "text/plain": [
       "<Figure size 720x576 with 1 Axes>"
      ]
     },
     "metadata": {},
     "output_type": "display_data"
    }
   ],
   "source": [
    "# Bar plot that uses all the values so we can get varience/stats measures\n",
    "plt.figure(figsize=(10,8))\n",
    "ax = sns.set(font_scale=1)\n",
    "ax = sns.barplot(x=global_df['Cell Condition'],y='Distribution of TERRA Foci/Cell',\n",
    "                 data=global_df,  palette=\"Set3\", order = ['0Gy','0Gy & RnaseA+H','2Gy','2Gy & RnaseA+H'])\n",
    "\n",
    "ax.set(ylim=(0,14), xlabel='Cell Condition', ylabel = 'Mean TERRA Foci/Cell')\n",
    "plt.title('Mean TERRA Foci/Cell Based On Condition')\n",
    "plt.setp(ax.patches, linewidth=2, edgecolor=\".5\")"
   ]
  },
  {
   "cell_type": "markdown",
   "id": "107a90d1-a4d4-4072-9bee-ff3647484d26",
   "metadata": {},
   "source": [
    "## Stats"
   ]
  },
  {
   "cell_type": "code",
   "execution_count": 8,
   "id": "f70cee35-836d-4e1e-9fd7-8cb632850251",
   "metadata": {},
   "outputs": [
    {
     "name": "stdout",
     "output_type": "stream",
     "text": [
      "F_onewayResult(statistic=40.22130919965053, pvalue=3.673096649706062e-23) Between All\n",
      " F_onewayResult(statistic=12.807020720648879, pvalue=0.0004190395594394681) 0Gy vs. 2Gy\n",
      " F_onewayResult(statistic=13.687831185821716, pvalue=0.00026860018343309675) 0Gy vs. 0Gy + Rnase\n",
      " F_onewayResult(statistic=84.44535425121381, pvalue=2.1100880702536034e-17) 2Gy vs. 2Gy + Rnase\n",
      "\n"
     ]
    }
   ],
   "source": [
    "# one-way ANOVA's \n",
    "\n",
    "#Between all the groups\n",
    "all_global_anova = stats.f_oneway(global_pivot_df['0Gy'],\n",
    "               global_pivot_df['0Gy & RNAseA+H'],\n",
    "               global_pivot_df['2Gy'],\n",
    "               global_pivot_df['2Gy & RNAseA+H'])\n",
    "\n",
    "#Between 0Gy and 2Gy\n",
    "Zv2_global_anova = stats.f_oneway(global_pivot_df['0Gy'],\n",
    "               global_pivot_df['2Gy'],\n",
    "                )\n",
    "\n",
    "#Between 0Gy and 0Gy & RNAseA+H\n",
    "ZvZR_global_anova = stats.f_oneway(global_pivot_df['0Gy'],\n",
    "               global_pivot_df['0Gy & RNAseA+H'],\n",
    "               )\n",
    "\n",
    "#Between 2Gy and 2Gy & RNAseA+H\n",
    "Gy2v2R_global_anova = stats.f_oneway(global_pivot_df['2Gy'],\n",
    "               global_pivot_df['2Gy & RNAseA+H'])\n",
    "\n",
    "print( all_global_anova,'Between All\\n',\n",
    "       Zv2_global_anova,'0Gy vs. 2Gy\\n',\n",
    "       ZvZR_global_anova, '0Gy vs. 0Gy + Rnase\\n',\n",
    "       Gy2v2R_global_anova, '2Gy vs. 2Gy + Rnase\\n'\n",
    "     )\n",
    "\n",
    "# All p<<0 indicates statistical significant difference between all the groups ****\n",
    "# 0Gy vs. 2Gy P = 0.00042 indicates difference ***\n",
    "# 0Gy vs. 0Gy + Rnase P=0.00027 indicates difference ***\n",
    "# 2Gy vs. 2Gy + Rnase P=<<0 indicates difference ****"
   ]
  },
  {
   "cell_type": "code",
   "execution_count": 9,
   "id": "b159a6a2-9cc6-4ff6-afa3-30a76b9cfaf6",
   "metadata": {},
   "outputs": [
    {
     "name": "stdout",
     "output_type": "stream",
     "text": [
      "         Multiple Comparison of Means - Tukey HSD, FWER=0.05         \n",
      "=====================================================================\n",
      "    group1         group2     meandiff p-adj   lower    upper  reject\n",
      "---------------------------------------------------------------------\n",
      "           0Gy 0Gy & RnaseA+H    -2.65 0.0085  -4.7985 -0.5015   True\n",
      "           0Gy            2Gy   4.0667  0.001   1.9182  6.2152   True\n",
      "           0Gy 2Gy & RnaseA+H     -4.7  0.001  -6.8485 -2.5515   True\n",
      "0Gy & RnaseA+H            2Gy   6.7167  0.001   4.5682  8.8652   True\n",
      "0Gy & RnaseA+H 2Gy & RnaseA+H    -2.05 0.0678  -4.1985  0.0985  False\n",
      "           2Gy 2Gy & RnaseA+H  -8.7667  0.001 -10.9152 -6.6182   True\n",
      "---------------------------------------------------------------------\n"
     ]
    }
   ],
   "source": [
    "# perform Tukey HSD to confirm ANOVA results\n",
    "global_tukey = pairwise_tukeyhsd(endog=global_df['Distribution of TERRA Foci/Cell'],\n",
    "                          groups=global_df['Cell Condition'],\n",
    "                          alpha=0.05)\n",
    "\n",
    "print(global_tukey)\n",
    "\n",
    "#Tukey HSD confirms the differences and includes that the +RNAse groups are not stat. different"
   ]
  },
  {
   "cell_type": "markdown",
   "id": "a41024bd-dd4f-41c7-944b-52ec2bc7564c",
   "metadata": {},
   "source": [
    "## Box Plot"
   ]
  },
  {
   "cell_type": "code",
   "execution_count": 10,
   "id": "df00960f-4b8e-4f19-86f6-b93965590f51",
   "metadata": {},
   "outputs": [
    {
     "data": {
      "text/plain": [
       "Text(0.5, 1.0, 'Distributions of TERRA Foci in U2OS Cells')"
      ]
     },
     "execution_count": 10,
     "metadata": {},
     "output_type": "execute_result"
    },
    {
     "data": {
      "image/png": "[encoded data removed]",
      "text/plain": [
       "<Figure size 792x432 with 1 Axes>"
      ]
     },
     "metadata": {},
     "output_type": "display_data"
    }
   ],
   "source": [
    "# A better representation of the distribution\n",
    "f, ax = plt.subplots(figsize=(11, 6))\n",
    "ax = sns.set(font_scale=1)\n",
    "ax = sns.boxenplot(x=global_df['Cell Condition'],  palette=\"Set3\", y='Distribution of TERRA Foci/Cell',\n",
    "                 data=global_df, order = ['0Gy','0Gy & RnaseA+H','2Gy','2Gy & RnaseA+H'])\n",
    "\n",
    "ax.set(ylim=(-5, 50), xlabel= \"Cell Conditions\", ylabel=\"Amount of TERRA Foci\")\n",
    "sns.despine(left=True, bottom=True)\n",
    "plt.title('Distributions of TERRA Foci in U2OS Cells')"
   ]
  },
  {
   "cell_type": "markdown",
   "id": "4edccf85-90eb-4507-8faf-dc09422e5d35",
   "metadata": {},
   "source": [
    "# TERRA Locolizes to Telomeric DSBs\n",
    "  - What the experiment is (e.g. what is it testing and how):\n",
    "  - \"To measure the colocalization of FLAG and TERRA  RNA FISH and Immunostaining to label FLAG in positively transfected cells and compare it to untransfected population.\"\n",
    "  - to test wheather  this system allowed the formation of telomeric DSBs, cells were  fixed and immunostained to detect\n",
    "    - a.FLAG  ( to label the positvely transfected cells).\n",
    "    - b. yH2AX ( DSBs marker)\n",
    "    - c. Edu ( S phase marker) FUCCI marker (G2 marker). \n",
    "    - The fixed cells were also stained with G-rich labeld PNA probe  to detect Telomeres (C-rich strands).\n"
   ]
  },
  {
   "cell_type": "markdown",
   "id": "4bab622b-0fd1-4b55-9a0b-7f45a79501ae",
   "metadata": {},
   "source": [
    "## Bar Plots"
   ]
  },
  {
   "cell_type": "code",
   "execution_count": 11,
   "id": "53a42490-de98-4f55-a202-eba85a710de4",
   "metadata": {},
   "outputs": [
    {
     "data": {
      "text/plain": [
       "Text(0.5, 1.0, 'Average Cololocolized Foci Per Cell')"
      ]
     },
     "execution_count": 11,
     "metadata": {},
     "output_type": "execute_result"
    },
    {
     "data": {
      "image/png": "[encoded data removed]",
      "text/plain": [
       "<Figure size 1312.1x576 with 1 Axes>"
      ]
     },
     "metadata": {},
     "output_type": "display_data"
    }
   ],
   "source": [
    "# Catagorical bar plot for\n",
    "g = sns.catplot(\n",
    "    data=telo_df, kind=\"bar\",\n",
    "    x=\"Cell_condition\", y=\"foci_per_cell\", hue=\"Colocolization\",\n",
    "    ci=\"sd\", palette=\"dark\", alpha=.75, height=8, aspect=2\n",
    ")\n",
    "\n",
    "g.despine(left=False)\n",
    "g.set_axis_labels(\"Cell Condition\", \"Number of Foci\")\n",
    "g.legend.set_title(\"Colocolization\")\n",
    "plt.title(\"Average Cololocolized Foci Per Cell\")"
   ]
  },
  {
   "cell_type": "code",
   "execution_count": 12,
   "id": "5a664719-2bc3-47b8-ba91-12e817013e73",
   "metadata": {},
   "outputs": [
    {
     "data": {
      "text/plain": [
       "Text(0.5, 1.0, 'Average Cololocolized Foci Per Cell')"
      ]
     },
     "execution_count": 12,
     "metadata": {},
     "output_type": "execute_result"
    },
    {
     "data": {
      "image/png": "[encoded data removed]",
      "text/plain": [
       "<Figure size 1312.1x576 with 1 Axes>"
      ]
     },
     "metadata": {},
     "output_type": "display_data"
    }
   ],
   "source": [
    "# Show that TERRA responds to DSB's from either EN-T and TRF1\n",
    "g = sns.catplot(\n",
    "    data=telo_df, kind=\"bar\",\n",
    "    x=\"Cell_condition\", y=\"foci_per_cell\", hue=\"Colocolization\",\n",
    "    ci=\"sd\", palette=\"dark\", alpha=.75, height=8, aspect=2, order=[\"EN-T\",\"TRF1\"]\n",
    ")\n",
    "\n",
    "g.despine(left=False)\n",
    "g.set_axis_labels(\"Cell Condition\", \"Number of Foci\")\n",
    "g.legend.set_title(\"Colocolization\")\n",
    "plt.title(\"Average Cololocolized Foci Per Cell\")"
   ]
  },
  {
   "cell_type": "code",
   "execution_count": 42,
   "id": "7665de12-71db-4a0b-8392-92894b77f9e7",
   "metadata": {},
   "outputs": [
    {
     "name": "stdout",
     "output_type": "stream",
     "text": [
      "F_onewayResult(statistic=0.0074907920174264305, pvalue=0.9319852347203408) Flag\n",
      " F_onewayResult(statistic=1.0146976237782777, pvalue=0.32877203658344184) tri\n",
      " F_onewayResult(statistic=0.6622384330590622, pvalue=0.42771618130047206) TRF2\n",
      "\n"
     ]
    }
   ],
   "source": [
    "a = stats.f_oneway(telo_cell_df['EN-T'].iloc[:10],\n",
    "               telo_cell_df['TRF1'].iloc[:10],\n",
    "                                 )\n",
    "b =stats.f_oneway(telo_cell_df['EN-T'].iloc[11:20],\n",
    "               telo_cell_df['TRF1'].iloc[11:20],\n",
    "                                 )\n",
    "c = stats.f_oneway(telo_cell_df['EN-T'].iloc[21:],\n",
    "               telo_cell_df['TRF1'].iloc[21:],\n",
    "                                 )\n",
    "print(a,'Flag\\n',b,'tri\\n',c,'TRF2\\n')"
   ]
  },
  {
   "cell_type": "code",
   "execution_count": 13,
   "id": "4da0c58b-48ed-4afb-9c75-0dadf4e80225",
   "metadata": {},
   "outputs": [
    {
     "data": {
      "text/plain": [
       "Text(0.5, 1.0, 'Average Cololocolized Foci Per Cell')"
      ]
     },
     "execution_count": 13,
     "metadata": {},
     "output_type": "execute_result"
    },
    {
     "data": {
      "image/png": "[encoded data removed]",
      "text/plain": [
       "<Figure size 1312.1x576 with 1 Axes>"
      ]
     },
     "metadata": {},
     "output_type": "display_data"
    }
   ],
   "source": [
    "#Show that RNAseA+H reduces levels of TERRA, almost to scale which is intersting\n",
    "g = sns.catplot(\n",
    "    data=telo_df, kind=\"bar\",\n",
    "    x=\"Cell_condition\", y=\"foci_per_cell\", hue=\"Colocolization\",\n",
    "    ci=\"sd\", palette=\"dark\", alpha=.75, height=8, aspect=2, order=[\"EN-T\",\"EN-T & RNAseA+H\",\"TRF1\",\"TRF1 & RNAseA+H\"]\n",
    ")\n",
    "\n",
    "g.despine(left=False)\n",
    "g.set_axis_labels(\"Cell Condition\", \"Number of Foci\")\n",
    "g.legend.set_title(\"Colocolization\")\n",
    "plt.title(\"Average Cololocolized Foci Per Cell\")"
   ]
  },
  {
   "cell_type": "code",
   "execution_count": 43,
   "id": "670f12b5-3aa4-464e-b252-b5ba7f7577ba",
   "metadata": {},
   "outputs": [
    {
     "name": "stdout",
     "output_type": "stream",
     "text": [
      "F_onewayResult(statistic=2.999429378782151, pvalue=0.10039559636715745) EN-T Flag\n",
      " F_onewayResult(statistic=4.231719968983899, pvalue=0.05635779775743202) EN-T tri\n",
      " F_onewayResult(statistic=4.231719968983899, pvalue=0.05635779775743202) EN-T TRF2\n",
      " F_onewayResult(statistic=2.073295656872315, pvalue=0.16706359345413027) TRF1 Flag\n",
      " F_onewayResult(statistic=5.253377629178031, pvalue=0.035802190121200464) TRF1 tri\n",
      " F_onewayResult(statistic=5.253377629178031, pvalue=0.035802190121200464) TRF1  TRF2\n",
      "\n"
     ]
    }
   ],
   "source": [
    "d = stats.f_oneway(telo_cell_df['EN-T'].iloc[:10],\n",
    "               telo_cell_df['EN-T & RNAseA+H'].iloc[:10],\n",
    "                                 )\n",
    "\n",
    "e =stats.f_oneway(telo_cell_df['EN-T'].iloc[11:20],\n",
    "               telo_cell_df['EN-T & RNAseA+H'].iloc[11:20],\n",
    "                                 )\n",
    "\n",
    "f = stats.f_oneway(telo_cell_df['EN-T'].iloc[11:20],\n",
    "               telo_cell_df['EN-T & RNAseA+H'].iloc[11:20],\n",
    "                                 )\n",
    "\n",
    "g = stats.f_oneway(telo_cell_df['TRF1'].iloc[:10],\n",
    "               telo_cell_df['TRF1 & RNAseA+H'].iloc[:10],\n",
    "                                 )\n",
    "\n",
    "h = stats.f_oneway(telo_cell_df['TRF1'].iloc[11:20],\n",
    "               telo_cell_df['TRF1 & RNAseA+H'].iloc[11:20],\n",
    "                                 )\n",
    "\n",
    "i = stats.f_oneway(telo_cell_df['TRF1'].iloc[11:20],\n",
    "               telo_cell_df['TRF1 & RNAseA+H'].iloc[11:20],\n",
    "                                 )\n",
    "\n",
    "print(d,'EN-T Flag\\n',e,'EN-T tri\\n',f,'EN-T TRF2\\n',g,'TRF1 Flag\\n',h,'TRF1 tri\\n',i,'TRF1  TRF2\\n')"
   ]
  },
  {
   "cell_type": "code",
   "execution_count": 14,
   "id": "3644ea24-c609-491f-a436-02b52805f919",
   "metadata": {},
   "outputs": [
    {
     "data": {
      "text/plain": [
       "Text(0.5, 1.0, 'Average Cololocolized Foci Per Cell')"
      ]
     },
     "execution_count": 14,
     "metadata": {},
     "output_type": "execute_result"
    },
    {
     "data": {
      "image/png": "[encoded data removed]",
      "text/plain": [
       "<Figure size 1312.1x576 with 1 Axes>"
      ]
     },
     "metadata": {},
     "output_type": "display_data"
    }
   ],
   "source": [
    "#Show the increased levels of TRF2-TERRA to support that free TERRA is recreuited to telo DSB's\n",
    "g = sns.catplot(\n",
    "    data=telo_df, kind=\"bar\",\n",
    "    x=\"Cell_condition\", y=\"foci_per_cell\", hue=\"Colocolization\",\n",
    "    ci=\"sd\", palette=\"dark\", alpha=.75, height=8, aspect=2, order=[\"EN-T\",\"TRF1\",\"Empty\",\"Untransfected\"],\n",
    ")\n",
    "\n",
    "g.despine(left=False)\n",
    "g.set_axis_labels(\"Cell Condition\", \"Number of Foci\")\n",
    "g.legend.set_title(\"Colocolization\")\n",
    "plt.title(\"Average Cololocolized Foci Per Cell\")"
   ]
  },
  {
   "cell_type": "code",
   "execution_count": 44,
   "id": "de815df0-9d0d-4055-9ec4-2875c6af55b5",
   "metadata": {},
   "outputs": [
    {
     "name": "stdout",
     "output_type": "stream",
     "text": [
      "F_onewayResult(statistic=22.9040206361094, pvalue=0.00014790840055757597) Empty Flag\n",
      " F_onewayResult(statistic=21.048542733031045, pvalue=0.00030324510734208693) Empty tri\n",
      " F_onewayResult(statistic=21.048542733031045, pvalue=0.00030324510734208693) Empty TRF2\n",
      " F_onewayResult(statistic=34.732299828888685, pvalue=1.4029589978226206e-05) TRF1 Flag\n",
      " F_onewayResult(statistic=22.646952255330238, pvalue=0.00021351344139676102) Untrans tri\n",
      " F_onewayResult(statistic=22.646952255330238, pvalue=0.00021351344139676102) Untrans TRF2\n",
      "\n"
     ]
    }
   ],
   "source": [
    "j = stats.f_oneway(telo_cell_df['TRF1'].iloc[:10],\n",
    "               telo_cell_df['Empty'].iloc[:10],\n",
    "                                 )\n",
    "\n",
    "k =stats.f_oneway(telo_cell_df['TRF1'].iloc[11:20],\n",
    "               telo_cell_df['Empty'].iloc[11:20],\n",
    "                                 )\n",
    "\n",
    "l = stats.f_oneway(telo_cell_df['TRF1'].iloc[11:20],\n",
    "               telo_cell_df['Empty'].iloc[11:20],\n",
    "                                 )\n",
    "\n",
    "m = stats.f_oneway(telo_cell_df['TRF1'].iloc[:10],\n",
    "               telo_cell_df['Untransfected'].iloc[:10],\n",
    "                                 )\n",
    "\n",
    "n = stats.f_oneway(telo_cell_df['TRF1'].iloc[11:20],\n",
    "               telo_cell_df['Untransfected'].iloc[11:20],\n",
    "                                 )\n",
    "\n",
    "o = stats.f_oneway(telo_cell_df['TRF1'].iloc[11:20],\n",
    "               telo_cell_df['Untransfected'].iloc[11:20],\n",
    "                                 )\n",
    "\n",
    "print(j,'Empty Flag\\n',k,'Empty tri\\n',l,'Empty TRF2\\n',m,'TRF1 Flag\\n',n,'Untrans tri\\n',o,'Untrans TRF2\\n')"
   ]
  },
  {
   "cell_type": "code",
   "execution_count": 45,
   "id": "b1b44b6f-9439-460a-9a2d-050bbba6728e",
   "metadata": {},
   "outputs": [
    {
     "data": {
      "text/plain": [
       "Text(0.5, 1.0, 'Average Cololocolized Foci Per Cell')"
      ]
     },
     "execution_count": 45,
     "metadata": {},
     "output_type": "execute_result"
    },
    {
     "data": {
      "image/png": "[encoded data removed]",
      "text/plain": [
       "<Figure size 1312.1x576 with 1 Axes>"
      ]
     },
     "metadata": {},
     "output_type": "display_data"
    }
   ],
   "source": [
    "g = sns.catplot(\n",
    "    data=telo_df, kind=\"bar\",\n",
    "    x=\"Cell_condition\", y=\"foci_per_cell\", hue=\"Colocolization\",\n",
    "    ci=\"sd\", palette=\"dark\", alpha=.75, height=8, aspect=2, order=[\"Empty\",\"Untransfected\",\n",
    "                                                                   \"Empty & RNAseA+H\",\"Untransfected & RNAseA+H\"],\n",
    ")\n",
    "\n",
    "g.despine(left=False)\n",
    "g.set_axis_labels(\"Cell Condition\", \"Number of Foci\")\n",
    "g.legend.set_title(\"Colocolization\")\n",
    "plt.title(\"Average Cololocolized Foci Per Cell\")"
   ]
  },
  {
   "cell_type": "markdown",
   "id": "43497c74-dd9c-4426-a580-22f85135e046",
   "metadata": {},
   "source": [
    "## Stats"
   ]
  },
  {
   "cell_type": "code",
   "execution_count": 26,
   "id": "6ae97e0b-67ca-4792-974e-47be6be7f875",
   "metadata": {},
   "outputs": [
    {
     "name": "stdout",
     "output_type": "stream",
     "text": [
      "F_onewayResult(statistic=40.22130919965053, pvalue=3.673096649706062e-23) Between All\n",
      " F_onewayResult(statistic=11.086851684615448, pvalue=0.001082125011747382) FlagT vs. tricolocolization\n",
      " F_onewayResult(statistic=0.31021807487536396, pvalue=0.5783345050786045) TRF2T vs. tricolocolization\n",
      " F_onewayResult(statistic=17.035335750219424, pvalue=5.922132154126668e-05) TRF2T vs. FlagT\n",
      "\n"
     ]
    }
   ],
   "source": [
    "#Show that across all the cell lines, the amount of terra/cell is different\n",
    "all_coloc_anova =stats.f_oneway(telo_coloc_df['FLAG v. TERRA'],\n",
    "               telo_coloc_df['FLAG v. TRF2 v. TERRA'],\n",
    "               telo_coloc_df['TRF2 v. TERRA'],\n",
    "               )\n",
    "\n",
    "Fv3_coloc_anova = stats.f_oneway(telo_coloc_df['FLAG v. TERRA'],\n",
    "               telo_coloc_df['FLAG v. TRF2 v. TERRA'],\n",
    "               )\n",
    "\n",
    "Tv3_coloc_anova = stats.f_oneway(telo_coloc_df['FLAG v. TRF2 v. TERRA'],\n",
    "               telo_coloc_df['TRF2 v. TERRA'],\n",
    "               )\n",
    "\n",
    "TvF_coloc_anova = stats.f_oneway(telo_coloc_df['FLAG v. TERRA'],\n",
    "               telo_coloc_df['TRF2 v. TERRA'],\n",
    "               )\n",
    "\n",
    "print( all_coloc_anova,'Between All\\n',\n",
    "       Fv3_coloc_anova,'FlagT vs. tricolocolization\\n',\n",
    "       Tv3_coloc_anova, 'TRF2T vs. tricolocolization\\n',\n",
    "       TvF_coloc_anova, 'TRF2T vs. FlagT\\n'\n",
    "     )\n",
    "\n",
    "#All sig diff except for TRF2 v. tri – shows that TRF2 drives the colocolization ––– could do SHAP if we wanted"
   ]
  },
  {
   "cell_type": "code",
   "execution_count": 27,
   "id": "a449112f-d673-4c57-be9d-1592894cbaaa",
   "metadata": {},
   "outputs": [
    {
     "name": "stdout",
     "output_type": "stream",
     "text": [
      "               Multiple Comparison of Means - Tukey HSD, FWER=0.05               \n",
      "=================================================================================\n",
      "        group1                group2        meandiff p-adj  lower   upper  reject\n",
      "---------------------------------------------------------------------------------\n",
      "        FLAG v. TERRA FLAG v. TRF2 v. TERRA  -5.6226 0.001 -9.1012 -2.1441   True\n",
      "        FLAG v. TERRA         TRF2 v. TERRA   -6.273 0.001 -9.7516 -2.7945   True\n",
      "FLAG v. TRF2 v. TERRA         TRF2 v. TERRA  -0.6504 0.892 -4.1289  2.8282  False\n",
      "---------------------------------------------------------------------------------\n"
     ]
    }
   ],
   "source": [
    "# Tukey to confirm the colocolization differences\n",
    "coloc_tukey = pairwise_tukeyhsd(endog=telo_df['foci_per_cell'],\n",
    "                          groups=telo_df['Colocolization'],\n",
    "                          alpha=0.05)\n",
    "\n",
    "print(coloc_tukey)"
   ]
  },
  {
   "cell_type": "code",
   "execution_count": 28,
   "id": "1d1169f2-cddb-48d8-aa87-4e57da841073",
   "metadata": {},
   "outputs": [
    {
     "name": "stdout",
     "output_type": "stream",
     "text": [
      "               Multiple Comparison of Means - Tukey HSD, FWER=0.05               \n",
      "=================================================================================\n",
      "     group1               group2          meandiff p-adj   lower    upper  reject\n",
      "---------------------------------------------------------------------------------\n",
      "            EN-T          EN-T & RNAseA+H  -7.3605 0.0167 -13.9438 -0.7772   True\n",
      "            EN-T                    Empty  -7.5286 0.0129 -14.1119 -0.9453   True\n",
      "            EN-T         Empty & RNAseA+H -10.5545  0.001 -17.1378 -3.9711   True\n",
      "            EN-T                     TRF1   2.2998    0.9  -4.2835  8.8831  False\n",
      "            EN-T          TRF1 & RNAseA+H  -5.6402 0.1539 -12.2235  0.9431  False\n",
      "            EN-T            Untransfected -10.8442  0.001 -17.4275 -4.2609   True\n",
      "            EN-T Untransfected & RNAseA+H  -13.997  0.001 -20.5803 -7.4137   True\n",
      " EN-T & RNAseA+H                    Empty  -0.1681    0.9  -6.7515  6.4152  False\n",
      " EN-T & RNAseA+H         Empty & RNAseA+H   -3.194 0.7911  -9.7773  3.3893  False\n",
      " EN-T & RNAseA+H                     TRF1   9.6603  0.001    3.077 16.2436   True\n",
      " EN-T & RNAseA+H          TRF1 & RNAseA+H   1.7203    0.9   -4.863  8.3036  False\n",
      " EN-T & RNAseA+H            Untransfected  -3.4837 0.7114  -10.067  3.0996  False\n",
      " EN-T & RNAseA+H Untransfected & RNAseA+H  -6.6365 0.0466 -13.2199 -0.0532   True\n",
      "           Empty         Empty & RNAseA+H  -3.0258 0.8374  -9.6091  3.5575  False\n",
      "           Empty                     TRF1   9.8284  0.001   3.2451 16.4117   True\n",
      "           Empty          TRF1 & RNAseA+H   1.8885    0.9  -4.6949  8.4718  False\n",
      "           Empty            Untransfected  -3.3156 0.7577  -9.8989  3.2677  False\n",
      "           Empty Untransfected & RNAseA+H  -6.4684 0.0582 -13.0517  0.1149  False\n",
      "Empty & RNAseA+H                     TRF1  12.8543  0.001    6.271 19.4376   True\n",
      "Empty & RNAseA+H          TRF1 & RNAseA+H   4.9143 0.3074   -1.669 11.4976  False\n",
      "Empty & RNAseA+H            Untransfected  -0.2897    0.9  -6.8731  6.2936  False\n",
      "Empty & RNAseA+H Untransfected & RNAseA+H  -3.4426 0.7228 -10.0259  3.1408  False\n",
      "            TRF1          TRF1 & RNAseA+H    -7.94 0.0067 -14.5233 -1.3567   True\n",
      "            TRF1            Untransfected  -13.144  0.001 -19.7273 -6.5607   True\n",
      "            TRF1 Untransfected & RNAseA+H -16.2968  0.001 -22.8801 -9.7135   True\n",
      " TRF1 & RNAseA+H            Untransfected   -5.204 0.2375 -11.7873  1.3793  False\n",
      " TRF1 & RNAseA+H Untransfected & RNAseA+H  -8.3568 0.0033 -14.9402 -1.7735   True\n",
      "   Untransfected Untransfected & RNAseA+H  -3.1528 0.8025  -9.7361  3.4305  False\n",
      "---------------------------------------------------------------------------------\n"
     ]
    }
   ],
   "source": [
    "# Tukey to confirm the overall means of the different cells\n",
    "cellcond_tukey = pairwise_tukeyhsd(endog=telo_df['foci_per_cell'],\n",
    "                          groups=telo_df['Cell_condition'],\n",
    "                          alpha=0.05)\n",
    "\n",
    "print(cellcond_tukey)\n"
   ]
  },
  {
   "cell_type": "markdown",
   "id": "28f6535c-630d-4bdb-ac28-332dd142ad58",
   "metadata": {},
   "source": [
    "## Distributions"
   ]
  },
  {
   "cell_type": "code",
   "execution_count": null,
   "id": "9863f155-3299-44a6-8b91-df3a84395ab9",
   "metadata": {},
   "outputs": [],
   "source": [
    "#Seeing the distribution of all the TERRA colocolizations\n",
    "sns.pairplot(telo_df, hue=\"Colocolization\", aspect=1, #palette=\"dark\"\n",
    "            )\n",
    "plt.title(\"Distributions of TERRA Colocolizations\", x=0, y=2.05)\n",
    "#plt.legend(bbox_to_anchor=(2.01, 5),\n",
    "           #borderaxespad=0)"
   ]
  },
  {
   "cell_type": "code",
   "execution_count": null,
   "id": "ae5f41b6-5b3f-46a2-9f47-a1ae819e4495",
   "metadata": {},
   "outputs": [],
   "source": [
    "#Seeing if the cell transfection influences TERRA colocoliztion\n",
    "sns.pairplot(telo_df, hue=\"Cell_condition\", aspect=2, #palette=\"dark\"\n",
    "            )\n",
    "plt.title('Distributions of TERRA Colocolizations', x=0, y=2.05)"
   ]
  },
  {
   "cell_type": "markdown",
   "id": "f4a83d90-39d7-41ec-921e-3a5119ff8fc1",
   "metadata": {},
   "source": [
    "# TERRA locolization to Telomeric DSBs accumulated in the G2 phase of the cell cycle\n",
    "  - Same experiment but assesed based on cells transfected with:\n",
    "      - \"G1 (stained  ONLY  with DAPI), in S phase (stained with DAPI+EdU) and G2 ( cells stained with green FUCCI and DAPI) and then compared this to the number of TERRA foci in untransfected control.\"\n",
    "      - \"To measure the colocalization of FLAG and TERRA  RNA FISH and Immunostaining to label FLAG in positively transfected cells and compare it to untransfected population.\"\n",
    "      - to test wheather  this system allowed the formation of telomeric DSBs, cells were  fixed and immunostained to detect\n",
    "        - a.FLAG  ( to label the positvely transfected cells).\n",
    "        - b. yH2AX ( DSBs marker)\n",
    "        - c. Edu ( S phase marker) FUCCI marker (G2 marker). \n",
    "        - The fixed cells were also stained with G-rich labeld PNA probe  to detect Telomeres (C-rich strands)."
   ]
  },
  {
   "cell_type": "markdown",
   "id": "7e6f6223-d205-4001-badf-71145a376344",
   "metadata": {},
   "source": [
    "## Bar Plots"
   ]
  },
  {
   "cell_type": "code",
   "execution_count": null,
   "id": "6ff93872-1b72-425c-81ea-217954ef391d",
   "metadata": {},
   "outputs": [],
   "source": [
    "# Catagorical bar plot for percent of cells per phase\n",
    "g = sns.catplot(\n",
    "    data=g2_df, kind=\"bar\",\n",
    "    x=\"Cell_condition\", y=\"Cell_%_In_Phase\", hue=\"Phase\",\n",
    "    ci=\"sd\", palette=\"husl\", alpha=.75, height=8, aspect=2\n",
    ")\n",
    "\n",
    "g.despine(left=False)\n",
    "g.set_axis_labels(\"Cell Phase\", \"Percent of Total Cells in Phase\")\n",
    "g.legend.set_title(\"Cell Phase\")\n",
    "plt.title(\"Percent of Cells per Phase\")"
   ]
  },
  {
   "cell_type": "code",
   "execution_count": null,
   "id": "09709324-8093-46f8-8d7a-23b5f2643721",
   "metadata": {},
   "outputs": [],
   "source": [
    "# Catagorical bar plot for percent of TERRA per phase\n",
    "g = sns.catplot(\n",
    "    data=g2_df, kind=\"bar\",\n",
    "    x=\"Cell_condition\", y=\"TERRA_%_In_Phase\", hue=\"Phase\",\n",
    "    ci=\"sd\", palette=\"husl\", alpha=.75, height=8, aspect=2\n",
    ")\n",
    "\n",
    "g.despine(left=False, bottom = True)\n",
    "g.set_axis_labels(\"Cell Phase\", \"Percent of Total TERRA in Phase\")\n",
    "g.legend.set_title(\"Cell Phase\")\n",
    "plt.title(\"Percent of TERRA per Phase\")"
   ]
  },
  {
   "cell_type": "code",
   "execution_count": null,
   "id": "035de449-bf55-4543-8be1-caeb6e27a977",
   "metadata": {},
   "outputs": [],
   "source": [
    "# Show that TERRA accumulates in G2 to Telo DSB's\n",
    "g = sns.catplot(\n",
    "    data=g2_df, kind=\"bar\",\n",
    "    x=\"Cell_condition\", y=\"TERRA_%_In_Phase\", hue=\"Phase\",\n",
    "    ci=\"sd\", palette=\"husl\", alpha=.75, height=8, aspect=2, order=['EN-T', 'TRF1']\n",
    ")\n",
    "\n",
    "g.despine(left=False, bottom = True)\n",
    "g.set_axis_labels(\"Cell Phase\", \"Percent of Total TERRA in Phase\")\n",
    "g.legend.set_title(\"Cell Phase\")\n",
    "plt.title(\"Percent of TERRA per Phase\")"
   ]
  },
  {
   "cell_type": "code",
   "execution_count": null,
   "id": "aa8aac11-383e-45c1-b213-41d7696fd329",
   "metadata": {},
   "outputs": [],
   "source": [
    "#Show the funky result that RNAse didn't deplete TERRA - consistent across the board\n",
    "g = sns.catplot(\n",
    "    data=g2_df, kind=\"bar\",\n",
    "    x=\"Cell_condition\", y=\"TERRA_%_In_Phase\", hue=\"Phase\",\n",
    "    ci=\"sd\", palette=\"husl\", alpha=.75, height=8, aspect=2, order=[\"EN-T\",\"EN-T & RNAseA+H\",\"TRF1\",\"TRF1 & RNAseA+H\"]\n",
    "    \n",
    ")\n",
    "\n",
    "g.despine(left=False, bottom = True)\n",
    "g.set_axis_labels(\"Cell Phase\", \"Percent of Total TERRA in Phase\")\n",
    "g.legend.set_title(\"Cell Phase\")\n",
    "plt.title(\"Percent of TERRA per Phase\")"
   ]
  },
  {
   "cell_type": "code",
   "execution_count": null,
   "id": "0fb8f086-2821-4c77-9503-fd7a4b9d45a9",
   "metadata": {},
   "outputs": [],
   "source": [
    "#Show the funky result that TERRA accumulates in G1 in Empty & Untransfected cells +RNAseA+H\n",
    "g = sns.catplot(\n",
    "    data=g2_df, kind=\"bar\",\n",
    "    x=\"Cell_condition\", y=\"TERRA_%_In_Phase\", hue=\"Phase\",\n",
    "    ci=\"sd\", palette=\"husl\", alpha=.75, height=8, aspect=2, order=[\"Empty\",\"Untransfected\",\"Empty & RNAseA+H\",\"Untransfected & RNAseA+H\"],  \n",
    ")\n",
    "\n",
    "g.despine(left=False, bottom = True)\n",
    "g.set_axis_labels(\"Cell Phase\", \"Percent of Total TERRA in Phase\")\n",
    "g.legend.set_title(\"Cell Phase\")\n",
    "plt.title(\"Percent of TERRA per Phase\")"
   ]
  },
  {
   "cell_type": "markdown",
   "id": "b2af6157-f908-4990-b345-34c2052a0578",
   "metadata": {},
   "source": [
    "## Distributions"
   ]
  },
  {
   "cell_type": "code",
   "execution_count": null,
   "id": "33d5cfa4-8767-40f5-b99d-57a9cab404ac",
   "metadata": {},
   "outputs": [],
   "source": [
    "# Show that both the majority percent of cells and percent of TERRA accumulate in G2\n",
    "g = sns.jointplot(\n",
    "    data=g2_df,\n",
    "    x=\"Cell_%_In_Phase\", y=\"TERRA_%_In_Phase\", hue=\"Phase\",\n",
    "    kind=\"kde\", palette=\"husl\"\n",
    ")\n",
    "\n",
    "plt.title('Percent of Cell vs. Percent of TERRA Per Phase', x=-3, y=1.25)"
   ]
  },
  {
   "cell_type": "code",
   "execution_count": null,
   "id": "5ceae70f-6935-444f-94ed-f2331099fa80",
   "metadata": {},
   "outputs": [],
   "source": [
    "# Show that the accunulation in G2 is independent of the cell condition\n",
    "g = sns.jointplot(\n",
    "    data=g2_df,\n",
    "    x=\"Cell_%_In_Phase\", y=\"TERRA_%_In_Phase\", hue=\"Cell_condition\",\n",
    "    kind=\"kde\",palette=\"husl\"\n",
    ")\n",
    "\n",
    "plt.title('Percent of Cell vs. Percent of TERRA Depending on Cell Condition', x=-3, y=1.25)"
   ]
  },
  {
   "cell_type": "code",
   "execution_count": null,
   "id": "b1ef103c-4cd3-4309-9647-f8ca6617f324",
   "metadata": {},
   "outputs": [],
   "source": [
    "#Seeing the distribution of TERRA and cells through the cell cycle\n",
    "sns.pairplot(g2_df, hue=\"Phase\", aspect=1, palette=\"husl\")\n",
    "plt.title('TERRA and Cell Metrics Distributed Based On Cell Phase', x=-1, y=4.15)"
   ]
  },
  {
   "cell_type": "code",
   "execution_count": null,
   "id": "825a1068-6fea-4eeb-a3f9-9f449c0fcbcb",
   "metadata": {},
   "outputs": [],
   "source": [
    "# Seeing if the cell transfection was responsible for the increased TERRA in G2\n",
    "sns.pairplot(g2_df, hue=\"Cell_condition\", aspect=1, palette=\"husl\")\n",
    "plt.title('TERRA and Cell Metrics Distributed Based On Cell Condition',x=-1, y=4.15)"
   ]
  },
  {
   "cell_type": "code",
   "execution_count": null,
   "id": "57d7858b-502a-481e-b9f2-4a1f488bf368",
   "metadata": {},
   "outputs": [],
   "source": []
  }
 ],
 "metadata": {
  "kernelspec": {
   "display_name": "Python 3",
   "language": "python",
   "name": "python3"
  },
  "language_info": {
   "codemirror_mode": {
    "name": "ipython",
    "version": 3
   },
   "file_extension": ".py",
   "mimetype": "text/x-python",
   "name": "python",
   "nbconvert_exporter": "python",
   "pygments_lexer": "ipython3",
   "version": "3.8.5"
  }
 },
 "nbformat": 4,
 "nbformat_minor": 5
}
