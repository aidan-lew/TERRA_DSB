{
 "cells": [
  {
   "cell_type": "markdown",
   "id": "7c69d19a-6c11-4085-a802-d6873e3a96d8",
   "metadata": {},
   "source": [
    "# TERRA Colocolizes to Double Stranded Breaks (DSBs), esp. in G2\n",
    "This project is the data analysis of Dr. Taghreed Mohammed Al Turki's PhD data, in continuation of Chris Nelson's(?) previous work. The objective is to eelucidate if TERRA locolizes to global DSBs, to telomeric DSB's, and which phase of the cell cycle does TERRA colocolize to telo DSBs. "
   ]
  },
  {
   "cell_type": "markdown",
   "id": "5452517e-c207-4193-94e9-03b4d53de153",
   "metadata": {},
   "source": [
    "# Setting up the data\n",
    "    We want the data to be read by the program environment so that we can run quick and accurate analysis further on."
   ]
  },
  {
   "cell_type": "markdown",
   "id": "2abb2b8f-ce6f-40c9-812a-63170267c113",
   "metadata": {},
   "source": [
    "# TERRA Responds to Global DSBs\n",
    "   - What the experiment is (e.g. what is it testing and how):\n",
    "   - \"To induce Global DSBs, U2OS cells were treated with 2 gy Gamma rays, recovered for 4 hours, fixed.\" \n",
    "   - \"To evaluate the induction of TERRA in response to the Global DSBs, the fixed cells were stained with C-rich labeld PNA probe. The experiment was repeated and cells were treated with a cocktail of  Rnase H and A for the removal of TERRA foci (negative control).\" \n"
   ]
  },
  {
   "cell_type": "markdown",
   "id": "e0791d58-d52c-48c3-9bd3-d3c02b26249e",
   "metadata": {},
   "source": [
    "## Box Plot"
   ]
  },
  {
   "cell_type": "markdown",
   "id": "d764e19b-ab8b-4a51-9d2d-5b927b625106",
   "metadata": {},
   "source": [
    "## Bar Plot"
   ]
  },
  {
   "cell_type": "markdown",
   "id": "4edccf85-90eb-4507-8faf-dc09422e5d35",
   "metadata": {},
   "source": [
    "# TERRA Locolizes to Telomeric DSBs\n",
    "  - What the experiment is (e.g. what is it testing and how):\n",
    "  - \"To measure the colocalization of FLAG and TERRA  RNA FISH and Immunostaining to label FLAG in positively transfected cells and compare it to untransfected population.\"\n",
    "  - to test wheather  this system allowed the formation of telomeric DSBs, cells were  fixed and immunostained to detect\n",
    "    - a.FLAG  ( to label the positvely transfected cells).\n",
    "    - b. yH2AX ( DSBs marker)\n",
    "    - c. Edu ( S phase marker) FUCCI marker (G2 marker). \n",
    "    - The fixed cells were also stained with G-rich labeld PNA probe  to detect Telomeres (C-rich strands).\n"
   ]
  },
  {
   "cell_type": "markdown",
   "id": "f4a83d90-39d7-41ec-921e-3a5119ff8fc1",
   "metadata": {},
   "source": [
    "# TERRA locolization to Telomeric DSBs accumulated in the G2 phase of the cell cycle\n",
    "  - Same experiment but assesed based on cells transfected with:\n",
    "      - \"G1 (stained  ONLY  with DAPI), in S phase (stained with DAPI+EdU) and G2 ( cells stained with green FUCCI and DAPI) and then compared this to the number of TERRA foci in untransfected control.\"\n",
    "      - \"To measure the colocalization of FLAG and TERRA  RNA FISH and Immunostaining to label FLAG in positively transfected cells and compare it to untransfected population.\"\n",
    "      - to test wheather  this system allowed the formation of telomeric DSBs, cells were  fixed and immunostained to detect\n",
    "        - a.FLAG  ( to label the positvely transfected cells).\n",
    "        - b. yH2AX ( DSBs marker)\n",
    "        - c. Edu ( S phase marker) FUCCI marker (G2 marker). \n",
    "        - The fixed cells were also stained with G-rich labeld PNA probe  to detect Telomeres (C-rich strands)."
   ]
  },
  {
   "cell_type": "code",
   "execution_count": null,
   "id": "a16d673f-a1b2-4296-aca8-35c07ea66a1b",
   "metadata": {},
   "outputs": [],
   "source": []
  }
 ],
 "metadata": {
  "kernelspec": {
   "display_name": "Python 3",
   "language": "python",
   "name": "python3"
  },
  "language_info": {
   "codemirror_mode": {
    "name": "ipython",
    "version": 3
   },
   "file_extension": ".py",
   "mimetype": "text/x-python",
   "name": "python",
   "nbconvert_exporter": "python",
   "pygments_lexer": "ipython3",
   "version": "3.8.5"
  }
 },
 "nbformat": 4,
 "nbformat_minor": 5
}
